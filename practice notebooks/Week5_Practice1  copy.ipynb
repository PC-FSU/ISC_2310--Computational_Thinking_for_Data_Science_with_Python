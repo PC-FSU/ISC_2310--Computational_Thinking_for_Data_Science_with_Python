{
 "cells": [
  {
   "cell_type": "markdown",
   "metadata": {},
   "source": [
    "# <span style='color:red'> Week 5 Python Practice Notebook "
   ]
  },
  {
   "cell_type": "markdown",
   "metadata": {},
   "source": [
    "This practice notebook should help you on your project.\n",
    "\n",
    "1.  Find the maximum value in the given Python list (```values```) and determine the index where the maximum occurs; print out the maximum value, the index of the maximum value and the list evaluated at this index to check.\n",
    "1. Given a second list ```weights```, determine the weight corresponding to the item with the maximum value.\n",
    "1.  Loop over the items in the list, print out  the item number and index which has the current highest value, its value and   weight.  After you find the item with highest value and have printed out results, set that value to zero so you don't choose it again.  Your output should be a list of the first item number and its index to pick, its value and its weight.  In this exercise we are not trying to see if the item fits in the backpack, simply going through the items.\n",
    "1.  Now modify your loop above to keep track of the total weight in the backpack."
   ]
  },
  {
   "cell_type": "code",
   "execution_count": null,
   "metadata": {},
   "outputs": [],
   "source": [
    "for i in range(len(value)):\n",
    "    #find curr max\n",
    "\n",
    "    # Add the curr max, index, weight\n",
    "\n",
    "    # update total weight\n",
    "\n",
    "    # set the val  to zero \n",
    "\n"
   ]
  },
  {
   "cell_type": "code",
   "execution_count": 1,
   "metadata": {},
   "outputs": [],
   "source": [
    "values = [ 4, 7, 10, 5, 3]\n",
    " "
   ]
  },
  {
   "cell_type": "code",
   "execution_count": 2,
   "metadata": {},
   "outputs": [],
   "source": [
    "weights = [15, 8, 2, 6, 12 ]\n",
    " "
   ]
  },
  {
   "cell_type": "code",
   "execution_count": 3,
   "metadata": {},
   "outputs": [],
   "source": [
    " \n",
    "print (f'Choose item number { } with index {  }, value = { } and weight = { }')\n",
    "#  \n",
    "# set value to zero so we don't find it again"
   ]
  },
  {
   "cell_type": "code",
   "execution_count": 4,
   "metadata": {},
   "outputs": [],
   "source": [
    "values = [ 4, 7, 10, 5, 3]  # we need to reload these lists because we modified them  \n",
    "weights = [15, 8, 2, 6, 12 ]             # in loop above\n",
    " "
   ]
  },
  {
   "cell_type": "code",
   "execution_count": null,
   "metadata": {},
   "outputs": [],
   "source": [
    " "
   ]
  },
  {
   "cell_type": "code",
   "execution_count": null,
   "metadata": {},
   "outputs": [],
   "source": []
  }
 ],
 "metadata": {
  "kernelspec": {
   "display_name": "Python 3",
   "language": "python",
   "name": "python3"
  },
  "language_info": {
   "codemirror_mode": {
    "name": "ipython",
    "version": 3
   },
   "file_extension": ".py",
   "mimetype": "text/x-python",
   "name": "python",
   "nbconvert_exporter": "python",
   "pygments_lexer": "ipython3",
   "version": "3.8.5"
  }
 },
 "nbformat": 4,
 "nbformat_minor": 2
}
