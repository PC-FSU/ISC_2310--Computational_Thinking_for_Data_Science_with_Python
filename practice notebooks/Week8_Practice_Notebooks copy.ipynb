{
 "cells": [
  {
   "cell_type": "markdown",
   "metadata": {},
   "source": [
    "#  <span style='color:red' >  Python Practice 1 Week 8 - Polynomial Interpolation"
   ]
  },
  {
   "cell_type": "markdown",
   "metadata": {},
   "source": [
    "Forced expiratory volume (FEV) is a standard measure of pulmonary function and is known to be a function of age and height. The data given below contains FEV information for 685 boys age 10 to 15 based on height in cm. The FEV information is the  average FEV for all boys tested at that height.\n",
    " \n",
    "\n",
    "1. Print out the data where first column is the height and second is FEV; use a loop to do this\n",
    "1. Import NumPy and matplotlib.pyplot\n",
    "1. Plot the data using a scatter plot where the height is on the x-axis and the FEV on the y-axis; add labels for x and y axes and a title for graph\n",
    "1. Input functions we wrote in first notebook this week to compute the coefficients in the Lagrange polynomial and evaluate interpolating polynomial at a point\n",
    "1. Plot the data and the interpolating polynomial for a height of 134 to 178 cm; add labels.  Hint:  to generate the x values to plot just use NumPy's ```linspace()``` command to generate points from 134 to 178; to get the corresponding y-value simply evaluate your interpolating polynomial at each of the x-values.\n",
    "1. Use the polynomial to predict the FEV for a height of 165 cm and of 175 cm.  Which do you think is best and why?"
   ]
  },
  {
   "cell_type": "code",
   "execution_count": 1,
   "metadata": {},
   "outputs": [],
   "source": [
    "# 1.  Print out data in columns\n",
    "height = [134, 138, 142, 146, 150, 154, 158, 162, 166, 170, 174, 178]\n",
    "fev = [1.7, 1.9, 2., 2.1, 2.2, 2.5, 2.7, 3.,3.1, 3.4, 3.8, 3.9]\n",
    " "
   ]
  },
  {
   "cell_type": "code",
   "execution_count": 2,
   "metadata": {},
   "outputs": [],
   "source": [
    "# 2.  Import libraries - NumPy and matplotlib\n",
    " "
   ]
  },
  {
   "cell_type": "code",
   "execution_count": 3,
   "metadata": {},
   "outputs": [],
   "source": [
    "# 3. Plot the data; add labels to axes and plot title\n",
    " "
   ]
  },
  {
   "cell_type": "code",
   "execution_count": 9,
   "metadata": {},
   "outputs": [],
   "source": [
    "#  4. Input functions to find interpolating polynomial\n",
    "def compute_int_coeff (n, x, y)  :\n",
    "    coeff = []  # initialize list\n",
    "    for i in range (0,n+1):  # loop to calculate n+1 coefficients\n",
    "        numerator = y[i]\n",
    "        denominator = 1.  # because denominator is a product we must initialize to 1\n",
    "        for j in range (0,n+1):\n",
    "            if ( i != j) :  # denominator is product of all terms except\n",
    "                            # when x_i=x_j which would give 0\n",
    "                denominator = denominator * (x[i] - x[j])\n",
    "        coeff.append (numerator / denominator)  # add term to list\n",
    "    return (coeff)\n",
    "#\n",
    "#\n",
    "def eval_int_polynomial (n, x, x_eval, coeff) :\n",
    "    my_sum = 0.  # formula is sum of n+1 terms so initialize\n",
    "    for i in range (0,n+1) : # loop to form sum of terms\n",
    "        product = 1. # initialize product in numerator of L_i\n",
    "        for j in range (0, n+1) :  # loop to form product of terms in numerator\n",
    "            if ( i != j )  :  # include all terms except when i = j\n",
    "                product = product * (x_eval - x[j])\n",
    "#       when this j loop is complete we have the numerator of L_i for one term\n",
    "        yi_times_Li = product * coeff[i]  # multiplies numerator times C_i (y_i/ product)\n",
    "        my_sum = my_sum + yi_times_Li  # keeps running tally of sum of terms\n",
    "    return (my_sum)"
   ]
  },
  {
   "cell_type": "code",
   "execution_count": 4,
   "metadata": {},
   "outputs": [],
   "source": [
    "# 5. Plot the interpolating polynomial from a height of 134 cm to 178 cm\n",
    " \n"
   ]
  },
  {
   "cell_type": "code",
   "execution_count": 5,
   "metadata": {},
   "outputs": [],
   "source": [
    "# 6.  Use the polynomial to predict the FEV for a height of 165 cm and of 175 cm.  \n",
    "# Which do you think is a better prediction?\n",
    " "
   ]
  },
  {
   "cell_type": "markdown",
   "metadata": {},
   "source": [
    "#  <span style='color:red' >  Python Practice 2 Week 8 - Piecewise Polynomial Interpolation"
   ]
  },
  {
   "cell_type": "markdown",
   "metadata": {},
   "source": [
    "In this notebook we look at the same problem that we did in Practice Notebook 1 this week except now we use piecewise polynomial interpolation.\n",
    "\n",
    "Forced expiratory volume (FEV) is a standard measure of pulmonary function and is known to be a function of age and height. The data given below contains FEV information for 685 boys age 10 to 15 based on height in cm. The FEV information is the  average FEV for all boys tested at that height.  This is the same data that we used in Practice 1 this week but now we are going to use a piecewise linear interpolating polynomial to fit the data.\n",
    " \n",
    "\n",
    "1. Import NumPy and matplotlib.pyplot \n",
    "1.  Use NumPy's ```interp()``` function to plot the piecewise linear interpolating polynomial and  the data on the same plot. This is similar to what we did in Practice 1  except now we use a piecewise  interpolating polynomial instead of a single polynomial; add labels.   \n",
    "1. Use the piecewise polynomial to predict the FEV for a height of 165 cm and of 175 cm.  How does this compare with the prediction from the 11th degree polynomial in Practice 1?\n",
    "The 11th degree polynomial  predicted 3.104 for 165 cm and 2.697 for 176 cm"
   ]
  },
  {
   "cell_type": "code",
   "execution_count": null,
   "metadata": {},
   "outputs": [],
   "source": [
    "#   Import libraries\n",
    "import matplotlib.pyplot as plt\n",
    "import numpy as np"
   ]
  },
  {
   "cell_type": "code",
   "execution_count": null,
   "metadata": {},
   "outputs": [],
   "source": [
    "#   Plot piecewise linear interpolating polynomial and data; use \n",
    " "
   ]
  },
  {
   "cell_type": "code",
   "execution_count": null,
   "metadata": {},
   "outputs": [],
   "source": [
    "#  Use the piecewise polynomial to predict the FEV for a height of 165 cm and of 176 cm.  \n",
    "# How does this compare with 11th degree polynomial which predicted 3.104 for 165 cm and\n",
    "# 2.697 for 176 cm\n",
    " "
   ]
  },
  {
   "cell_type": "markdown",
   "metadata": {},
   "source": [
    " "
   ]
  }
 ],
 "metadata": {
  "kernelspec": {
   "display_name": "Python 3",
   "language": "python",
   "name": "python3"
  },
  "language_info": {
   "codemirror_mode": {
    "name": "ipython",
    "version": 3
   },
   "file_extension": ".py",
   "mimetype": "text/x-python",
   "name": "python",
   "nbconvert_exporter": "python",
   "pygments_lexer": "ipython3",
   "version": "3.7.3"
  }
 },
 "nbformat": 4,
 "nbformat_minor": 2
}
