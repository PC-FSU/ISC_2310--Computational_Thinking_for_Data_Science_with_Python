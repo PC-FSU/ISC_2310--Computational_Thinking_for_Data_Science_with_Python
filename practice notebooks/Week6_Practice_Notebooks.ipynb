{
 "cells": [
  {
   "cell_type": "markdown",
   "metadata": {},
   "source": [
    "# <span style='color:red' > Python Practice 1 Week 6 - Using the statistics library "
   ]
  },
  {
   "cell_type": "markdown",
   "metadata": {},
   "source": [
    "\n",
    "Recall that the commands in the statistics library for the five measures (mean, median, mode, variance, standard deviation) we learned are:\n",
    "\n",
    "- __mean__   is just the average of the data : ```stat.mean ( )```\n",
    "- __median__  is just the value in the data when ordered : ```stat.median ( )```\n",
    "- __mode__  is the value in data which occurs most often; if the mode is not unique then this is reported  : ```stat.mode ( )```\n",
    "- __variance__  is the sample variance which is the   sum of the squares of the difference between each point and the mean divided by N-1 where we have N data points : ```stat.variance( )```\n",
    "- __pvariance__  is the population variance which is the  same as variance  except you average by N instead of N-1: ```stat.pvariance ( )```\n",
    "- __standard deviation__  is the square root of the variance : ```stat.stdev ( )```\n",
    "\n",
    "In all cases the argument of each function is the list of data."
   ]
  },
  {
   "cell_type": "code",
   "execution_count": 2,
   "metadata": {},
   "outputs": [],
   "source": [
    "# import statistics library as stat \n",
    "#\n",
    "import statistics as stat \n",
    "#\n",
    "# import matplotlib.pyplot as plt and NumPy as np\n",
    "import matplotlib.pyplot as plt\n",
    "import numpy as np"
   ]
  },
  {
   "cell_type": "markdown",
   "metadata": {},
   "source": [
    "### Use statistics library to calculate the mean, median, mode, variance & standard deviation\n",
    "\n",
    "1. For  the given list of daily temperatures calculate the mean, median, mode, variance & standard deviation.\n",
    " Give your answers to 3 decimal places where appropriate.  I have provided a list of the days from day 1 to day 10 for plotting in the next problem."
   ]
  },
  {
   "cell_type": "code",
   "execution_count": 3,
   "metadata": {},
   "outputs": [],
   "source": [
    "\n",
    "temps = [45, 51, 38, 42, 47, 51, 52, 55, 48, 43]\n",
    "n = len(temps)\n",
    "# for plotting purposes I have added an array of days from 1 to 10\n",
    "days = np.linspace(1,n,n)\n",
    " "
   ]
  },
  {
   "cell_type": "markdown",
   "metadata": {},
   "source": [
    "### Plotting\n",
    "2.  On the same graph :\n",
    " - plot the temperatures versus the days as a scatter plot using a red \"x\"\n",
    " - plot the mean as a horizontal green line\n",
    " - plot one standard deviation from the mean using a dotted blue line (both above and below the mean)\n",
    " \n",
    " Hint: To calculate the x-values for a horizontal line just use ```x=np.linspace()```.  To get the corresponding y-values (which is just the mean for the green line) create an array of all ones using  ```np.ones( len(x) )``` and multiply by the appropriate value.\n",
    "Also to create a dotted blue line use ````--b````"
   ]
  },
  {
   "cell_type": "code",
   "execution_count": 4,
   "metadata": {},
   "outputs": [],
   "source": [
    "# Plot the temperatures vs the days as a scatter plot using a red \"x\"\n",
    " \n",
    "#\n",
    "# Plot the mean as a horizontal line in green\n",
    " \n",
    "#\n",
    "# Illustrate 1 standard deviation away from the mean by drawing two horizonal lines in \n",
    "# as dotted blue lines\n",
    " \n",
    "plt.show()"
   ]
  },
  {
   "cell_type": "markdown",
   "metadata": {},
   "source": [
    "#  <span  style='color:red' > Python Practice 2 for Week 6 - Using NumPy's PRNG"
   ]
  },
  {
   "cell_type": "markdown",
   "metadata": {},
   "source": [
    "### Generating random integers\n",
    "1. Generate 15 random integers between 100 and 200; print out"
   ]
  },
  {
   "cell_type": "code",
   "execution_count": null,
   "metadata": {},
   "outputs": [],
   "source": []
  },
  {
   "cell_type": "markdown",
   "metadata": {},
   "source": [
    "### Generating random floating point numbers between 0 and 1\n",
    "2. Generate 15 random floating point numbers between 0 and 1; print array\n",
    "\n"
   ]
  },
  {
   "cell_type": "code",
   "execution_count": null,
   "metadata": {},
   "outputs": [],
   "source": []
  },
  {
   "cell_type": "markdown",
   "metadata": {},
   "source": [
    "### Generating random floating point numbers between a and b\n",
    "3. Generate 15 random floating point numbers between 10 and 40; print array\n",
    "\n",
    "\n"
   ]
  },
  {
   "cell_type": "code",
   "execution_count": null,
   "metadata": {},
   "outputs": [],
   "source": []
  },
  {
   "cell_type": "markdown",
   "metadata": {},
   "source": [
    "### Generating normally distributed points about a mean of 0 with standard deviation = 1\n",
    "\n",
    "4.  Generate 15 floating point numbers normally distributed about a mean of 0 and a standard deviation of 1; print array\n"
   ]
  },
  {
   "cell_type": "code",
   "execution_count": null,
   "metadata": {},
   "outputs": [],
   "source": []
  },
  {
   "cell_type": "markdown",
   "metadata": {},
   "source": [
    "### Generating normally distributed points about a given mean  and standard deviation  \n",
    "\n",
    "5. Generate 15   floating point numbers normally distributed about a mean of 20 and a standard deviation of 0.5; print array"
   ]
  },
  {
   "cell_type": "code",
   "execution_count": null,
   "metadata": {},
   "outputs": [],
   "source": []
  }
 ],
 "metadata": {
  "kernelspec": {
   "display_name": "Python 3",
   "language": "python",
   "name": "python3"
  },
  "language_info": {
   "codemirror_mode": {
    "name": "ipython",
    "version": 3
   },
   "file_extension": ".py",
   "mimetype": "text/x-python",
   "name": "python",
   "nbconvert_exporter": "python",
   "pygments_lexer": "ipython3",
   "version": "3.8.5"
  }
 },
 "nbformat": 4,
 "nbformat_minor": 2
}
