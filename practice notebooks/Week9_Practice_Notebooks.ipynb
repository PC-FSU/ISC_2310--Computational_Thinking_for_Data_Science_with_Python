{
 "cells": [
  {
   "cell_type": "markdown",
   "metadata": {},
   "source": [
    "# <span style='color:red' > Python Practice 1 Week 9 - Reading data from files"
   ]
  },
  {
   "cell_type": "markdown",
   "metadata": {},
   "source": [
    "To read data from a .txt or .csv file we use the NumPy function ```loadtxt()```.  Recall the syntax\n",
    " \n",
    "\n",
    "```Python\n",
    "my_data = np.loadtxt(filename, options)```\n",
    "\n",
    "The filename is a string so it must be in quotes.  This is the only required argument.\n",
    "\n",
    "Commonly used options are:\n",
    " \n",
    "```usecols``` =  column numbers to be input separated by commas  in ( ) \n",
    "Note that you use the __index__ of the column, not its number\n",
    "\n",
    "```delimiter``` = a string (such as a comma) which is used in the data file to separate entries\n",
    "\n",
    "```skiprows``` =  number of lines at first of file to skip; for example for skipping header\n",
    "\n",
    "```dtype ``` for specifying the data type you are inputting\n",
    "\n"
   ]
  },
  {
   "cell_type": "markdown",
   "metadata": {},
   "source": [
    "### Data file  insurance.csv\n",
    "\n",
    "The file __insurance.csv__ contains yearly insurance charges for individuals with various attributes.  In particular,  the   attributes are\n",
    "\n",
    "         age, sex, bmi, children, smoker, region\n",
    "       \n",
    "and the last column gives the insurance charges.\n",
    "\n",
    "Here bmi gives the body mass index; the normal range for BMI is 18.5 to 25.  The age and number of children are integer values, the bmi and insurance charges are floating point numbers and the remaining are strings.\n",
    "\n",
    "There is a single line of header containing the attribute names which must be skipped.\n",
    "\n",
    "The data is in a .csv file which means that the data is separated by commas.  Thus you must use the ```delimiter``` argument.\n",
    "\n",
    "The first 10 lines of the file are:\n",
    "\n",
    "age,sex,bmi,children,smoker,region,charges\n",
    "\n",
    "19,female,27.9,0,yes,southwest,16884.924\n",
    "\n",
    "18,male,33.77,1,no,southeast,1725.5523\n",
    "\n",
    "28,male,33,3,no,southeast,4449.462\n",
    "\n",
    "33,male,22.705,0,no,northwest,21984.47061\n",
    "\n",
    "32,male,28.88,0,no,northwest,3866.8552\n",
    "\n",
    "31,female,25.74,0,no,southeast,3756.6216\n",
    "\n",
    "46,female,33.44,1,no,southeast,8240.5896\n",
    "\n",
    "37,female,27.74,3,no,northwest,7281.5056\n",
    "\n",
    "37,male,29.83,2,no,northeast,6406.4107"
   ]
  },
  {
   "cell_type": "markdown",
   "metadata": {},
   "source": [
    "\n",
    "1.  Read  the age attribute, bmi attribute and the charges into separate arrays.  Print out to make sure you have done this correctly\n",
    "1.  Using an f-formatted print statement, print out the number of data instances in the file.\n",
    "1. Plot  (using a scatter plot) charges (y-axis) versus age; add axis labels and plot title.\n",
    "1. Plot  (using a scatter plot) charges (y-axis) versus bmi; add axis labels and plot title."
   ]
  },
  {
   "cell_type": "code",
   "execution_count": 4,
   "metadata": {},
   "outputs": [],
   "source": [
    "# Import NumPy and matplotlib.pyplot\n",
    " "
   ]
  },
  {
   "cell_type": "code",
   "execution_count": 17,
   "metadata": {},
   "outputs": [],
   "source": [
    "# Read in the data for age, bmi and insurance charges in separate arrays. \n",
    "#  Print out to check\n",
    "#\n",
    "filename='insurance.csv'\n",
    " "
   ]
  },
  {
   "cell_type": "code",
   "execution_count": 18,
   "metadata": {},
   "outputs": [],
   "source": [
    "# print out the number of data instances\n",
    " "
   ]
  },
  {
   "cell_type": "code",
   "execution_count": 19,
   "metadata": {},
   "outputs": [],
   "source": [
    "# plot charges vs age and add labels to axis and title\n",
    " "
   ]
  },
  {
   "cell_type": "code",
   "execution_count": 20,
   "metadata": {},
   "outputs": [],
   "source": [
    "# plot charges vs BMI; add axis labels and plot title\n",
    " "
   ]
  },
  {
   "cell_type": "code",
   "execution_count": null,
   "metadata": {},
   "outputs": [],
   "source": []
  },
  {
   "cell_type": "markdown",
   "metadata": {},
   "source": [
    "# <span style='color:red' > Python Practice 2 Week 9 -   Regression"
   ]
  },
  {
   "cell_type": "markdown",
   "metadata": {},
   "source": [
    "In the first Practice Notebook this week we read in and plotted data from the file insurance.csv.  Now we want to use linear    regression to find the line which fits the data and quadratic regression to find the parabola which fits the data; then we plot data and line or parabola.\n",
    "\n",
    "Here we use the BMI data and charges.\n",
    "\n",
    "Recall that to fit a linear polynomial to the data and evaluate x-points on the line  we use NumPy's ```polyfit()``` to fit the data and then ```poly1d()``` to evaluate the line there. \n",
    "\n",
    "\n",
    "```line_coeff = np.polyfit(x,y,1)  # use linear regression to fit (x,y) data and returns coefficients\n",
    "f = np.poly1d(line_coeff)\n",
    "yy=f(xx) ```\n",
    "\n",
    "\n",
    "Here ```xx``` is an array of the x-points to evaluate the line at and \n",
    "yy contains the value of each x-point evaluated at the line.\n",
    "\n",
    "If we fit a parabola instead of a line the only difference is we have a 2 instead of a 1 in the ```polyfit``` command (1 -> line or first degree polynomial and 2-> parabola or second degree polynomial)"
   ]
  },
  {
   "cell_type": "markdown",
   "metadata": {},
   "source": [
    "### Data file  insurance.csv\n",
    "\n",
    "The file __insurance.csv__ contains yearly insurance charges for individuals with various attributes.  In particular,  the   attributes are\n",
    "\n",
    "         age, sex, bmi, children, smoker, region\n",
    "       \n",
    "and the last column gives the insurance charges.\n",
    "\n",
    "Here bmi gives the body mass index; the normal range for BMI is 18.5 to 25.  The age and number of children are integer values, the bmi and insurance charges are floating point numbers and the remaining are strings.\n",
    "\n",
    "There is a single line of header containing the attribute names which must be skipped.\n",
    "\n",
    "The data is in a .csv file which means that the data is separated by commas.  Thus you must use the ```delimiter``` argument.\n",
    "\n",
    "The first 10 lines of the file are:\n",
    "\n",
    "age,sex,bmi,children,smoker,region,charges\n",
    "19,female,27.9,0,yes,southwest,16884.924\n",
    "18,male,33.77,1,no,southeast,1725.5523\n",
    "28,male,33,3,no,southeast,4449.462\n",
    "33,male,22.705,0,no,northwest,21984.47061\n",
    "32,male,28.88,0,no,northwest,3866.8552\n",
    "31,female,25.74,0,no,southeast,3756.6216\n",
    "46,female,33.44,1,no,southeast,8240.5896\n",
    "37,female,27.74,3,no,northwest,7281.5056\n",
    "37,male,29.83,2,no,northeast,6406.4107"
   ]
  },
  {
   "cell_type": "markdown",
   "metadata": {},
   "source": [
    "1.  Read  the   bmi attribute and the charges into separate arrays.  Print out to make sure you have done this correctly\n",
    "1.  Fit a line to the given data; print out the equation of the line using the coefficients.\n",
    "1. Plot the data and the line on the same graph; add axis labels and title.  Hint: to get the x-values to plot the line you should take the minimum BMI value to the maximum BMI value and then use NumPy's ```linspace()```.  Recall that NumPy also has functions for finding the max and min of an array; e.g.,``` np.max(bmi)```\n",
    "1.  Fit a parabola to the given data; print out the equation of the parabola using the coefficients.\n",
    "1. Plot the data and the parabola on the same graph; add axis labels and title."
   ]
  },
  {
   "cell_type": "code",
   "execution_count": 1,
   "metadata": {},
   "outputs": [],
   "source": [
    "# Import NumPy and matplotlib.pyplot\n",
    "import numpy as np\n",
    "import matplotlib.pyplot as plt\n",
    "\n"
   ]
  },
  {
   "cell_type": "code",
   "execution_count": 2,
   "metadata": {},
   "outputs": [],
   "source": [
    "# Read in the data for  bmi and insurance charges in separate arrays. \n",
    "#  Print out to check\n",
    "#\n",
    "filename='insurance.csv'\n",
    " "
   ]
  },
  {
   "cell_type": "code",
   "execution_count": 3,
   "metadata": {},
   "outputs": [],
   "source": [
    " # Fit a line using linear regression"
   ]
  },
  {
   "cell_type": "code",
   "execution_count": 4,
   "metadata": {},
   "outputs": [],
   "source": [
    "# Plot data and line on same graph"
   ]
  },
  {
   "cell_type": "code",
   "execution_count": 5,
   "metadata": {},
   "outputs": [],
   "source": [
    "# Fit a parabola to data"
   ]
  },
  {
   "cell_type": "code",
   "execution_count": 6,
   "metadata": {},
   "outputs": [],
   "source": [
    "# Plot data and parabola on same graph"
   ]
  },
  {
   "cell_type": "code",
   "execution_count": null,
   "metadata": {},
   "outputs": [],
   "source": []
  }
 ],
 "metadata": {
  "kernelspec": {
   "display_name": "Python 3",
   "language": "python",
   "name": "python3"
  },
  "language_info": {
   "codemirror_mode": {
    "name": "ipython",
    "version": 3
   },
   "file_extension": ".py",
   "mimetype": "text/x-python",
   "name": "python",
   "nbconvert_exporter": "python",
   "pygments_lexer": "ipython3",
   "version": "3.8.5"
  }
 },
 "nbformat": 4,
 "nbformat_minor": 2
}
