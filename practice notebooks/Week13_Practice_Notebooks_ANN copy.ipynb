{
 "cells": [
  {
   "cell_type": "markdown",
   "metadata": {},
   "source": [
    "# Week 13 Practice Notebook - Using ANN for a Multi-class Classification Problem\n",
    "\n",
    "In this notebook we return to the iris dataset which we have used previously.  In this case we want to predict what variety of iris (setosa, versicolor or virginica) that a plant belongs to based on its petal and sepal length and width.  Because there are 3 possible outcomes it is a multi-class classification problem.\n",
    "\n",
    "* Import libraries and ANN function\n",
    "* Load scikit-learn dataset and create dataframe; add target column and species column as we did previously  \n",
    "* Create target array; you should already have   2-D data array which you used to create dataframe \n",
    "* Split data into training and test sets using 70-30 split\n",
    "* Scale data using scikit-learn StandardScaler (I have provided statements for this)\n",
    "* Create  ANN classifier   and fit the training data; determine percent of accuracy\n",
    "* Determine accuracy of model on test data\n",
    "* Now we want to add a column to dataframe for plotting which gives predicted outcome for ALL data; to do this we first predict the outcome for the entire set X, put this in an array and then add the column to dataframe. Do NOT create the model again and fit all data rather use the model you already created.  However, we need to scale the entire dataset to do this which I have done for you. \n",
    "* Plot petal length vs sepal length and indicate actual species with color; repeat for prediction\n",
    "* Plot petal width vs sepal width and indicate actual species with color; repeat for prediction\n",
    "* Compare\n",
    "\n"
   ]
  },
  {
   "cell_type": "markdown",
   "metadata": {},
   "source": [
    "### Data Set - Iris\n",
    "\n",
    "This data consists of 150 instances with four attributes which are the length and width of the sepals and petals in centimeters.  The measurements are from three different varieties of iris: Iris Versicolor, Iris Setosa and Iris Virginica. We will be using this data set to try out some of our classifiers.\n",
    "\n",
    "Recall that this dataset  contains more than the raw data.\n",
    "\n",
    "The goal of using this data is to __predict which class of iris__ a plant belongs to.  There are 3 classes:\n",
    " \n",
    "   - Iris setosa -> 0\n",
    "   - Iris versicolor -> 1\n",
    "   - Iris virginica -> 2\n",
    "    \n",
    "\n",
    "[Iris data] (http://suruchifialoke.com/2016-10-13-machine-learning-tutorial-iris-classification/)\n",
    "\n",
    "Because it is such a popular data set it is accessible from a module in sci-kit learn (sklearn).   \n",
    "\n",
    "We will import the data from sci-kit learn using the command\n",
    "```Python\n",
    "\n",
    "from sklearn.datasets import load_iris ```\n",
    "and load the data ```iris=load_iris()```\n",
    " "
   ]
  },
  {
   "cell_type": "code",
   "execution_count": 2,
   "metadata": {},
   "outputs": [],
   "source": [
    "import numpy as np\n",
    "import matplotlib.pyplot as plt\n",
    "from sklearn.neural_network import MLPClassifier   \n",
    "from sklearn.datasets import load_iris \n",
    "from pandas import DataFrame\n",
    "import pandas as pd\n",
    "import seaborn as sns"
   ]
  },
  {
   "cell_type": "code",
   "execution_count": 1,
   "metadata": {},
   "outputs": [],
   "source": [
    "# Input data  into dataframe\n",
    "#\n",
    " \n",
    "#\n",
    "# make data frame\n",
    " \n",
    "# add column with targets\n",
    " \n",
    "#\n",
    "#add species name for plotting\n",
    " "
   ]
  },
  {
   "cell_type": "code",
   "execution_count": 10,
   "metadata": {},
   "outputs": [],
   "source": [
    "# Create NumPy target array\n",
    " "
   ]
  },
  {
   "cell_type": "code",
   "execution_count": 11,
   "metadata": {},
   "outputs": [],
   "source": [
    "# Split data in test and train sets using 70-30 split\n",
    "#\n",
    "from sklearn.model_selection import train_test_split\n",
    "\n",
    " "
   ]
  },
  {
   "cell_type": "code",
   "execution_count": 24,
   "metadata": {},
   "outputs": [],
   "source": [
    "# ANN sensitive to scaling so scale\n",
    "#\n",
    "# Import StandardScaler and scale\n",
    "from sklearn.preprocessing import StandardScaler\n",
    "scaler = StandardScaler()\n",
    "scaler.fit(X_train)\n",
    "X_train = scaler.transform(X_train)\n",
    "X_test = scaler.transform(X_test) "
   ]
  },
  {
   "cell_type": "code",
   "execution_count": 2,
   "metadata": {},
   "outputs": [],
   "source": [
    "# Create classifier and train \n",
    " \n",
    "#\n",
    "# Print out precent accuracy of training set\n",
    " "
   ]
  },
  {
   "cell_type": "code",
   "execution_count": 3,
   "metadata": {},
   "outputs": [],
   "source": [
    "# Print out percent accuracy of test set \n",
    " "
   ]
  },
  {
   "cell_type": "code",
   "execution_count": 25,
   "metadata": {},
   "outputs": [],
   "source": [
    "# Scale the entire data X\n",
    "scaler.fit(X )\n",
    "X  = scaler.transform(X )"
   ]
  },
  {
   "cell_type": "code",
   "execution_count": 4,
   "metadata": {},
   "outputs": [],
   "source": [
    "# Predict the entire dataset and add column to dataframe for Prediction and predicted species\n",
    " "
   ]
  },
  {
   "cell_type": "code",
   "execution_count": 5,
   "metadata": {},
   "outputs": [],
   "source": [
    "# Plot petal length vs sepal length for actual data with hue = species and for prediction; compare\n",
    " "
   ]
  },
  {
   "cell_type": "code",
   "execution_count": 6,
   "metadata": {},
   "outputs": [],
   "source": [
    "# Plot petal width vs sepal width for actual data with hue = species and for prediction; compare\n",
    " "
   ]
  },
  {
   "cell_type": "markdown",
   "metadata": {},
   "source": [
    "#### Compare actual classification vs predicted classification\n",
    "\n",
    " "
   ]
  },
  {
   "cell_type": "code",
   "execution_count": null,
   "metadata": {},
   "outputs": [],
   "source": []
  }
 ],
 "metadata": {
  "kernelspec": {
   "display_name": "Python 3",
   "language": "python",
   "name": "python3"
  },
  "language_info": {
   "codemirror_mode": {
    "name": "ipython",
    "version": 3
   },
   "file_extension": ".py",
   "mimetype": "text/x-python",
   "name": "python",
   "nbconvert_exporter": "python",
   "pygments_lexer": "ipython3",
   "version": "3.7.3"
  }
 },
 "nbformat": 4,
 "nbformat_minor": 2
}
