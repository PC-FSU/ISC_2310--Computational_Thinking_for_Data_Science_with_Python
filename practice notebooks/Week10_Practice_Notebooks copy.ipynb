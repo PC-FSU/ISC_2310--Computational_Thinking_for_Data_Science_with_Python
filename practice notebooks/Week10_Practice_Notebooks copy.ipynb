{
 "cells": [
  {
   "cell_type": "markdown",
   "metadata": {},
   "source": [
    "# Python Practice  1 Week 10 - DataFrames  \n",
    "\n",
    "* Import libraries and DataFrame\n",
    "* Create a pandas DataFrame from the file pokeman.csv by using pandas command ```read_csv```; print out first 6 lines\n",
    "* Print out data types of each feature using ```.dtypes```\n",
    "* Print out column (feature) names using ```.columns```\n",
    "* Create a pandas Series for the feature ```Speed```; print out its type to check\n",
    "* Create a NumPy array for the feature ```Speed``` from the DataFrame; print out its type to check\n",
    "*  Make  NumPy arrays from the features ```Attack``` and ```Defense``` and do a scatter plot\n",
    "using matplotlib; add labels to axes\n",
    " \n",
    "* Create a new DataFrame from the original one by dropping the feature \"Type 2\"; print out first few lines to check"
   ]
  },
  {
   "cell_type": "markdown",
   "metadata": {},
   "source": [
    "### Data file  -  Pokeman data\n",
    "\n",
    "The file  \n",
    "\n",
    "  `pokeman.csv`\n",
    "  \n",
    "contains \n",
    "combat statistics for the original 151 Pokeman characters."
   ]
  },
  {
   "cell_type": "code",
   "execution_count": 2,
   "metadata": {},
   "outputs": [],
   "source": [
    "# Import libraries and DataFrame\n",
    "#\n",
    "import numpy as np\n",
    "import matplotlib.pyplot as plt\n",
    "import pandas as pd\n",
    "from pandas import DataFrame, Series "
   ]
  },
  {
   "cell_type": "code",
   "execution_count": 1,
   "metadata": {},
   "outputs": [],
   "source": [
    "# Read  the data from pokeman.csv into a DataFrame using pandas read_csv()\n",
    "# Print out the first 6 lines of data using .head\n",
    " "
   ]
  },
  {
   "cell_type": "code",
   "execution_count": 2,
   "metadata": {},
   "outputs": [],
   "source": [
    "# print out the data types of all features using .dtypes  (no parentheses)\n",
    " "
   ]
  },
  {
   "cell_type": "code",
   "execution_count": 4,
   "metadata": {},
   "outputs": [],
   "source": [
    "# print out the column names using .columns\n",
    " "
   ]
  },
  {
   "cell_type": "code",
   "execution_count": 6,
   "metadata": {},
   "outputs": [],
   "source": [
    "# Create a  pandas Series for the feature Speed; print out type   \n",
    " "
   ]
  },
  {
   "cell_type": "code",
   "execution_count": 5,
   "metadata": {},
   "outputs": [],
   "source": [
    "# Create a NumPy array  for the feature Speed (use.values) ; print out type\n",
    " "
   ]
  },
  {
   "cell_type": "code",
   "execution_count": 7,
   "metadata": {},
   "outputs": [],
   "source": [
    "# Make   1D NumPy arrays from the features Attack and Defense and do a scatter plot\n",
    "# using matplotlib\n",
    "#\n",
    " "
   ]
  },
  {
   "cell_type": "code",
   "execution_count": 9,
   "metadata": {},
   "outputs": [],
   "source": [
    "# Create a new DataFrame \"df_mod\" which is same as original but we drop \"Type 2\" feature; print out to check\n",
    " "
   ]
  },
  {
   "cell_type": "code",
   "execution_count": null,
   "metadata": {},
   "outputs": [],
   "source": []
  },
  {
   "cell_type": "markdown",
   "metadata": {},
   "source": [
    "# Python Practice Week 10 -   Visualization using DataFrames and  Seaborn\n",
    "\n",
    "* Import libraries and DataFrame\n",
    "* Create a pandas DataFrame by using pandas command ```read_csv``` as in previous practice notebook; print out first 6 lines \n",
    "* Add a white grid to background of all remaining plots using ```set_style```\n",
    "*  Make a scatter plot using Seaborn's ```relplot``` of Defense statistics (y-axis)\n",
    " vs Attacks Stats\n",
    "* Repeat previous plot  but use color to indicate Type 1 using ```hue = ```\n",
    "* Make a category plot using ```catplot``` of  Defense statistics (y-axis)  vs Type 1 (non-numerical data) If you can't read x-labels rotation labels   using plt.xticks using ```plt.xticks(rotation=-45)```\n",
    "* Make a Bar graph of Defense statistics for Type 1\n",
    "*  Make a violin plot of the Defense data for Type 1\n",
    "* Redo previous violin plot  but change palette to 'prism' using ```palette = ``` and change size using ```height=```\n",
    "* Overlaying plots  - overlay previous violin plot with actual points.  To do this (1) increase figure size using ```plt.figure(figsize =  (10,6) )```; (2) create violin plot and set \n",
    "```inner = None```   to get rid of the bars inside violin plot, (3) rotate x-axis labels for readability;  (4) create swarmplot for points and set ```color='k'``` to create the points in black; (5) add title \"Defense Data for Type 1\""
   ]
  },
  {
   "cell_type": "markdown",
   "metadata": {},
   "source": [
    "### Data file  -  Pokeman data\n",
    "\n",
    "The file  \n",
    "\n",
    "  `pokeman.csv`\n",
    "  \n",
    "contains \n",
    "combat statistics for the original 151 Pokeman characters."
   ]
  },
  {
   "cell_type": "code",
   "execution_count": 1,
   "metadata": {},
   "outputs": [],
   "source": [
    "# Import libraries and DataFrame\n",
    "#\n",
    "import numpy as np\n",
    "import matplotlib.pyplot as plt\n",
    "import pandas as pd\n",
    "from pandas import DataFrame, Series\n",
    "import seaborn as sns\n",
    "\n"
   ]
  },
  {
   "cell_type": "code",
   "execution_count": 2,
   "metadata": {},
   "outputs": [],
   "source": [
    "# Read  the data into a DataFrame  \n",
    "# Print out the first 5 lines of data  \n",
    " \n",
    " "
   ]
  },
  {
   "cell_type": "code",
   "execution_count": 3,
   "metadata": {},
   "outputs": [],
   "source": [
    "# Add a white grid to the background of Seaborn plots using set_style\n",
    " \n",
    " "
   ]
  },
  {
   "cell_type": "code",
   "execution_count": 4,
   "metadata": {},
   "outputs": [],
   "source": [
    "# Make a scatter plot using Seaborn's relplot of Defense statistics (y-axis)\n",
    "# vs Attacks Stats\n",
    " \n",
    " "
   ]
  },
  {
   "cell_type": "code",
   "execution_count": 5,
   "metadata": {},
   "outputs": [],
   "source": [
    "# Repeat plot in previous cell but use color to indicate Type 1 (hue = )\n",
    " "
   ]
  },
  {
   "cell_type": "code",
   "execution_count": 6,
   "metadata": {},
   "outputs": [],
   "source": [
    "# Make a category plot of  Defense statistics vs Type 1 (non-numerical) \n",
    "# Rotation labels on x-axis for readability using plt.xticks using plt.xticks(rotation=-45)\n",
    " "
   ]
  },
  {
   "cell_type": "code",
   "execution_count": 7,
   "metadata": {},
   "outputs": [],
   "source": [
    "# Make a Bar graph of Defense statistics for Type 1\n",
    " "
   ]
  },
  {
   "cell_type": "code",
   "execution_count": 8,
   "metadata": {},
   "outputs": [],
   "source": [
    "# Make a violin plot of the Defense data for Type 1\n",
    " "
   ]
  },
  {
   "cell_type": "code",
   "execution_count": null,
   "metadata": {},
   "outputs": [],
   "source": [
    "# Repeat the plot in the previous cell but change palette to 'prism' and change size\n"
   ]
  },
  {
   "cell_type": "code",
   "execution_count": null,
   "metadata": {},
   "outputs": [],
   "source": [
    "# Overlaying plots  - overlay violin plot of Defense with actual points \n",
    "#  To do this (1) increase figure size using ```plt.figure(figsize =  (10,6) )```;\n",
    "#  (2) create violin plot and set  inner = None   to get rid of the bars inside violin plot;\n",
    "#  (3) rotate x-axis labels for readability; \n",
    "#  (4) create swarmplot for points and set ```color='k'``` to create the points in black;\n",
    "#  (5) add title \"Defense Data for Type 1\"\n",
    "#\n",
    " "
   ]
  },
  {
   "cell_type": "markdown",
   "metadata": {},
   "source": [
    "# Week 10 Practice 3 -  Linear Regression with scikit-learn \n",
    "\n",
    "In this notebook you load a CSV file into a dataframe.  The file contains some medical insurance records.  We want to see if the yearly insurance charges can be modeled by just the BMI data.  So the idea is given a BMI what is the prediction for the yearly insurance charges.\n",
    "\n",
    "1. Import libraries\n",
    "1. Import Linear Regression model from scikit-learn\n",
    "1. Read in the data file 'insurance.csv' with pandas ```read_csv()``` to create a dataframe; print out some lines \n",
    "1. Set background grid for Seaborn\n",
    "1. Use Seaborn to create a scatter plot of charges vs BMI with the feature smoker indicated by color.\n",
    "1. Get NumPy arrays for ```BMI``` and ```Charges``` from Dataframe (use ```df.feature_name.values``` with correct feature name)\n",
    "1. Use NumPy ```reshape()``` to make the arrays n by 1 instead of 1 by n; ```reshape``` needs two arguments the array to reshape and the size to change it to such as ```(n,1)```\n",
    "1. Create the model using LinearRegression function in scikit-earn\n",
    "1. Fit the data using ```.fit()``` whose arguments are the x and y data (here \"BMI\" and \"Charges\" arrays)\n",
    "1. Write out the equation of the line fitting the data using ```.intercept_[0]``` and ```.coef_[0,0]```\n",
    "1. Plot the data and the line using Seaborn's regplot\n",
    "1. Predict the insurance costs for a person with a bmi of 31.7; round answer to near cent; compare with plot\n",
    "\n"
   ]
  },
  {
   "cell_type": "code",
   "execution_count": 9,
   "metadata": {},
   "outputs": [],
   "source": [
    "# Import libraries\n",
    "import numpy as np\n",
    "import matplotlib.pyplot as plt\n",
    "import pandas as pd\n",
    "from pandas import DataFrame, Series\n",
    "import seaborn as sns "
   ]
  },
  {
   "cell_type": "code",
   "execution_count": 10,
   "metadata": {},
   "outputs": [],
   "source": [
    "# Import LinearRegression function from scikit-learn\n",
    "from sklearn.linear_model import LinearRegression  "
   ]
  },
  {
   "cell_type": "code",
   "execution_count": 11,
   "metadata": {},
   "outputs": [],
   "source": [
    "# Read in data from file insurance.csv and create a DataFrame; print out some lines\n",
    "#\n",
    " "
   ]
  },
  {
   "cell_type": "code",
   "execution_count": 12,
   "metadata": {},
   "outputs": [],
   "source": [
    "# Set background grid for Seaborn plots\n",
    " "
   ]
  },
  {
   "cell_type": "code",
   "execution_count": 13,
   "metadata": {},
   "outputs": [],
   "source": [
    "# Create scatter plot of charges vs BMI with color indiciating whether patient is\n",
    "# smoker or not\n",
    " "
   ]
  },
  {
   "cell_type": "code",
   "execution_count": 14,
   "metadata": {},
   "outputs": [],
   "source": [
    "# Get data to use for linear regression\n",
    "# Right now we see if there is a relationship between insurance charges and bmi\n",
    " \n",
    "\n"
   ]
  },
  {
   "cell_type": "code",
   "execution_count": 15,
   "metadata": {},
   "outputs": [],
   "source": [
    "# Make bmi an n by 1 array and charges n by 1\n",
    " "
   ]
  },
  {
   "cell_type": "code",
   "execution_count": 16,
   "metadata": {},
   "outputs": [],
   "source": [
    "# Create model and fit data\n",
    " "
   ]
  },
  {
   "cell_type": "code",
   "execution_count": 17,
   "metadata": {},
   "outputs": [],
   "source": [
    "# write out equation of line"
   ]
  },
  {
   "cell_type": "code",
   "execution_count": 18,
   "metadata": {},
   "outputs": [],
   "source": [
    "# Use regplot to plot data and line\n",
    " "
   ]
  },
  {
   "cell_type": "code",
   "execution_count": null,
   "metadata": {},
   "outputs": [],
   "source": [
    "# predict insurance costs for a person with BMI 31.7; round answer to nearest cent\n",
    " \n",
    "#\n",
    "# Note that this value agrees with plot above because when x=31.7 y is around 14,000"
   ]
  }
 ],
 "metadata": {
  "kernelspec": {
   "display_name": "Python 3",
   "language": "python",
   "name": "python3"
  },
  "language_info": {
   "codemirror_mode": {
    "name": "ipython",
    "version": 3
   },
   "file_extension": ".py",
   "mimetype": "text/x-python",
   "name": "python",
   "nbconvert_exporter": "python",
   "pygments_lexer": "ipython3",
   "version": "3.8.5"
  }
 },
 "nbformat": 4,
 "nbformat_minor": 2
}
