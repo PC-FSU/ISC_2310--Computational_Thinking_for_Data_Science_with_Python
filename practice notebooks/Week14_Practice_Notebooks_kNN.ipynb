{
 "cells": [
  {
   "cell_type": "markdown",
   "metadata": {},
   "source": [
    "# Week 14 Practice Notebook - Using kNN for a Multi-class Classification Problem\n",
    "\n",
    "In this notebook we return to the iris dataset which we have used last week.  As before, we want to predict what variety of iris (setosa, versicolor or virginica) that a plant belongs to based on its petal and sepal length and width.  Because there are 3 possible outcomes it is a multi-class classification problem.\n",
    "\n",
    "We first want to classify using kNN and then compare the result with what we got last week using ANN and using Logistic Regression\n",
    "\n",
    "* Import libraries and ANN function\n",
    "* Load scikit-learn dataset and create dataframe; add target column   as we did previously  \n",
    "* Create target array; you should already have   2-D data array which you used to create dataframe \n",
    "* Split data into training and test sets using 70-30 split\n",
    "* Scale data using scikit-learn StandardScaler (I have provided statements for this)\n",
    "* Add a loop to use kNN classifier for k=2 to 5 and test each model on the training data; pick the value of k which does the best on training data. \n",
    "* Create  kNN classifier with your value of k  and fit the training data; determine percent of accuracy for test data\n",
    "*  Create  ANN classifier    and fit the training data; determine percent of accuracy for test data \n",
    "* Create Logistic Regression classifier  k  and fit the training data; determine percent of accuracy for test data\n",
    "* Compare the 3 classifiers for this problem\n",
    "\n"
   ]
  },
  {
   "cell_type": "markdown",
   "metadata": {},
   "source": [
    "### Data Set - Iris\n",
    "\n",
    "This data consists of 150 instances with four attributes which are the length and width of the sepals and petals in centimeters.  The measurements are from three different varieties of iris: Iris Versicolor, Iris Setosa and Iris Virginica. We will be using this data set to try out some of our classifiers.\n",
    "\n",
    "Recall that this dataset  contains more than the raw data.\n",
    "\n",
    "The goal of using this data is to __predict which class of iris__ a plant belongs to.  There are 3 classes:\n",
    " \n",
    "   - Iris setosa -> 0\n",
    "   - Iris versicolor -> 1\n",
    "   - Iris virginica -> 2\n",
    "    \n",
    "\n",
    "[Iris data] (http://suruchifialoke.com/2016-10-13-machine-learning-tutorial-iris-classification/)\n",
    "\n",
    "Because it is such a popular data set it is accessible from a module in sci-kit learn (sklearn).   \n",
    "\n",
    "We will import the data from sci-kit learn using the command\n",
    "```Python\n",
    "\n",
    "from sklearn.datasets import load_iris ```\n",
    "and load the data ```iris=load_iris()```\n",
    " "
   ]
  },
  {
   "cell_type": "code",
   "execution_count": 20,
   "metadata": {},
   "outputs": [],
   "source": [
    "import numpy as np\n",
    "import matplotlib.pyplot as plt\n",
    "from pandas import DataFrame\n",
    "import pandas as pd\n",
    "import seaborn as sns\n",
    "#\n",
    "from sklearn.neural_network import MLPClassifier  \n",
    "from sklearn.neighbors import KNeighborsClassifier\n",
    "from sklearn.linear_model import LogisticRegression\n",
    "#\n",
    "from sklearn.datasets import load_iris \n"
   ]
  },
  {
   "cell_type": "code",
   "execution_count": 1,
   "metadata": {},
   "outputs": [],
   "source": [
    "# Input data  into dataframe\n",
    "#\n",
    " "
   ]
  },
  {
   "cell_type": "code",
   "execution_count": 4,
   "metadata": {},
   "outputs": [],
   "source": [
    "# Create NumPy target array\n",
    " "
   ]
  },
  {
   "cell_type": "code",
   "execution_count": 5,
   "metadata": {},
   "outputs": [],
   "source": [
    "# Split data in test and train sets using 70-30 split\n",
    "#\n",
    "from sklearn.model_selection import train_test_split\n",
    " "
   ]
  },
  {
   "cell_type": "code",
   "execution_count": 26,
   "metadata": {},
   "outputs": [],
   "source": [
    "# Scale\n",
    "#\n",
    "# Import StandardScaler and scale\n",
    "from sklearn.preprocessing import StandardScaler\n",
    "scaler = StandardScaler()\n",
    "scaler.fit(X_train)\n",
    "X_train = scaler.transform(X_train)\n",
    "X_test = scaler.transform(X_test) "
   ]
  },
  {
   "cell_type": "code",
   "execution_count": 2,
   "metadata": {},
   "outputs": [],
   "source": [
    "# Create classifier and train  for k = 2 to 5 nearest neighbors; print out accuracy for training set; pick best\n",
    "# accuracy to use\n",
    "#\n",
    " \n"
   ]
  },
  {
   "cell_type": "code",
   "execution_count": 3,
   "metadata": {},
   "outputs": [],
   "source": [
    "# Conclusion ; refit data\n",
    " "
   ]
  },
  {
   "cell_type": "code",
   "execution_count": 4,
   "metadata": {},
   "outputs": [],
   "source": [
    "# Print out percent accuracy of test set using kNN\n",
    " \n",
    " "
   ]
  },
  {
   "cell_type": "code",
   "execution_count": 5,
   "metadata": {},
   "outputs": [],
   "source": [
    "# Compare with ANN on test set\n",
    " "
   ]
  },
  {
   "cell_type": "markdown",
   "metadata": {},
   "source": [
    "Note that in last week's Practice Notebook we got about 93% but because the test set is chosen randomly, it is a different set here."
   ]
  },
  {
   "cell_type": "code",
   "execution_count": 6,
   "metadata": {},
   "outputs": [],
   "source": [
    "# Compare with Logistic Regression on test set\n",
    " "
   ]
  },
  {
   "cell_type": "markdown",
   "metadata": {},
   "source": [
    "#### Compare accuracy of 3 different classifiers\n",
    "\n",
    "  "
   ]
  },
  {
   "cell_type": "code",
   "execution_count": null,
   "metadata": {},
   "outputs": [],
   "source": []
  }
 ],
 "metadata": {
  "kernelspec": {
   "display_name": "Python 3",
   "language": "python",
   "name": "python3"
  },
  "language_info": {
   "codemirror_mode": {
    "name": "ipython",
    "version": 3
   },
   "file_extension": ".py",
   "mimetype": "text/x-python",
   "name": "python",
   "nbconvert_exporter": "python",
   "pygments_lexer": "ipython3",
   "version": "3.7.3"
  }
 },
 "nbformat": 4,
 "nbformat_minor": 2
}
