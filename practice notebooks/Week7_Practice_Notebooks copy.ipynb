{
 "cells": [
  {
   "cell_type": "markdown",
   "metadata": {},
   "source": [
    "# <span style='color:red' > Python Practice 1 Week 7- Creating histograms using points generated from NumPy's PRNG\n"
   ]
  },
  {
   "cell_type": "markdown",
   "metadata": {},
   "source": [
    "First recall the functions for using NumPy's PRNG\n",
    "```Python\n",
    "x = np.random.seed (123456)\n",
    "```\n",
    "\n",
    "- Generating an array of random integers\n",
    "\n",
    "```Python\n",
    "x = np.random.randint (low = lowest value, high = highest value, size = number to generate)\n",
    "```\n",
    "\n",
    "- Generating an array of random floating point numbers uniformly distributed from 0 to 1\n",
    "\n",
    "```Python\n",
    "x = np.random.uniform (size = number to generate )\n",
    "```\n",
    "\n",
    "- Generating an array of   floating point numbers  normally distributed about a mean of 0 with  standard deviation of 1\n",
    "\n",
    "```Python\n",
    "x = np.random.normal (size = number to generate )\n",
    "```\n",
    "\n",
    "\n",
    "1. import numpy and matplotlib.pyplot\n",
    "1. set the seed\n",
    "1. generate 50 random integers from 1 to 50   and make a \n",
    "  frequency histogram with 5 bars\n",
    "1. generate 10,000 random integers from 1 to 50  and make a \n",
    "  frequency histogram with 5 bars; compare with previous histogram\n",
    "1. generate 1000 floating point numbers uniformly distributed from 1 to 100   and make a \n",
    "  frequency histogram  with 5 bars\n",
    "1. generate 1000 floating point numbers normally distributed about a mean of 50\n",
    "  with a standard deviation of 5 and make a frequency histogram with 5 bars\n",
    "1. generate 1000 floating point numbers normally distributed about a mean of 50\n",
    "  with a standard deviation of 5 and make a DENSITY histogram with 5 bars; compare this histogram with previous one "
   ]
  },
  {
   "cell_type": "code",
   "execution_count": 1,
   "metadata": {},
   "outputs": [],
   "source": [
    "# import the library numpy as np\n",
    "# import the library matplotlib.pyplt  as plt\n",
    " "
   ]
  },
  {
   "cell_type": "code",
   "execution_count": 3,
   "metadata": {},
   "outputs": [],
   "source": [
    "# set a seed for your calculations so that they are reproducible\n",
    " "
   ]
  },
  {
   "cell_type": "code",
   "execution_count": 1,
   "metadata": {},
   "outputs": [],
   "source": [
    "# generate 50 random integers from 1 to 50  using random.randint() and make a \n",
    "# frequency histogram\n",
    " "
   ]
  },
  {
   "cell_type": "code",
   "execution_count": null,
   "metadata": {},
   "outputs": [],
   "source": []
  },
  {
   "cell_type": "code",
   "execution_count": 2,
   "metadata": {},
   "outputs": [],
   "source": [
    "# generate 10000 random integers from 1 to 50  using random.randint() and make a \n",
    "# frequency histogram\n",
    "# compare with previous histogram\n",
    " "
   ]
  },
  {
   "cell_type": "code",
   "execution_count": null,
   "metadata": {},
   "outputs": [],
   "source": []
  },
  {
   "cell_type": "markdown",
   "metadata": {},
   "source": [
    "Add comments here:  (double click cell to add your comments)"
   ]
  },
  {
   "cell_type": "code",
   "execution_count": 3,
   "metadata": {},
   "outputs": [],
   "source": [
    "# generate 1000 floating point numbers uniformly distributed from 1 to 100   and make a \n",
    "# frequency histogram\n",
    " "
   ]
  },
  {
   "cell_type": "code",
   "execution_count": null,
   "metadata": {},
   "outputs": [],
   "source": []
  },
  {
   "cell_type": "code",
   "execution_count": 4,
   "metadata": {},
   "outputs": [],
   "source": [
    "# generate 1000 floating point numbers normally distributed about a mean of 50\n",
    "# with a standard deviation of 5 and make a frequency histogram\n",
    "# \n",
    " "
   ]
  },
  {
   "cell_type": "code",
   "execution_count": null,
   "metadata": {},
   "outputs": [],
   "source": []
  },
  {
   "cell_type": "code",
   "execution_count": 5,
   "metadata": {},
   "outputs": [],
   "source": [
    "# generate 1000 floating point numbers normally distributed about a mean of 50\n",
    "# with a standard deviation of 5 and make a density histogram; compare with frequency\n",
    "# histogram\n",
    " "
   ]
  },
  {
   "cell_type": "code",
   "execution_count": null,
   "metadata": {},
   "outputs": [],
   "source": []
  },
  {
   "cell_type": "markdown",
   "metadata": {},
   "source": [
    "Add comments here:  (double click cell to add your comments)"
   ]
  },
  {
   "cell_type": "markdown",
   "metadata": {},
   "source": [
    "# <span style='color:red'>  Python Practice 2 Week 7 -  Monte Carlo Algorithm\n",
    "\n"
   ]
  },
  {
   "cell_type": "markdown",
   "metadata": {},
   "source": [
    "This practice notebook will help you on Project 3.\n",
    "\n",
    "In this practice notebook you are going to simulate drawing a ball from a bin of 50 balls.  Each ball is numbered from 1 to 50.  You are going to simulate drawing a ball, then simulate drawing many balls and keep track of how many have a number <25.  You determine the discrete probability of drawing a ball which has a number <25 and compare\n",
    "with the theoretical value (24/50).  Finally you write a function which returns True if you draw a ball with a number < 25 and False otherwise.\n",
    "\n",
    "1. import library random and set seed \n",
    "1. simulate drawing a single ball; print out its number; Hint: just use ```random.randint()``` function.\n",
    "1. simulate drawing 100 balls and keep track of how many have a number <25; you need a conditional here as well as a loop\n",
    "1. determine the discrete probability of drawing a ball with a number <25 and compare with the theoretical probability\n",
    "1. write a function which returns True if you draw a ball with a number < 25 and False otherwise; test it out.  Hint: there are no inputs for this function."
   ]
  },
  {
   "cell_type": "code",
   "execution_count": null,
   "metadata": {},
   "outputs": [],
   "source": [
    "# import random   and set seed\n",
    " "
   ]
  },
  {
   "cell_type": "code",
   "execution_count": null,
   "metadata": {},
   "outputs": [],
   "source": [
    "# Simulate drawing a single ball; each ball has a number from  from 1 to 50\n",
    " "
   ]
  },
  {
   "cell_type": "code",
   "execution_count": null,
   "metadata": {},
   "outputs": [],
   "source": [
    "# Simulate drawing 100 balls and keep track of the number of balls \n",
    "# that have a number less than 25\n",
    "\n"
   ]
  },
  {
   "cell_type": "code",
   "execution_count": null,
   "metadata": {},
   "outputs": [],
   "source": [
    "# Calculate discrete probability that you will draw a ball with a number <25 using 10,000\n",
    "# simulations"
   ]
  },
  {
   "cell_type": "code",
   "execution_count": null,
   "metadata": {},
   "outputs": [],
   "source": [
    "# Now suppose you are playing a game where you draw a ball.  You win if you get a number\n",
    "# <25 and lose otherwise.  Write a function which draws a single ball and returns True\n",
    "# if the number is <25 and false if it is >= 25\n",
    "#  Test out your function"
   ]
  }
 ],
 "metadata": {
  "kernelspec": {
   "display_name": "Python 3",
   "language": "python",
   "name": "python3"
  },
  "language_info": {
   "codemirror_mode": {
    "name": "ipython",
    "version": 3
   },
   "file_extension": ".py",
   "mimetype": "text/x-python",
   "name": "python",
   "nbconvert_exporter": "python",
   "pygments_lexer": "ipython3",
   "version": "3.8.5"
  }
 },
 "nbformat": 4,
 "nbformat_minor": 2
}
