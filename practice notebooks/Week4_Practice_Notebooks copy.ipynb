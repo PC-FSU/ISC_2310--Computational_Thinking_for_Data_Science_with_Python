{
 "cells": [
  {
   "cell_type": "markdown",
   "metadata": {},
   "source": [
    "# <span style='color:green' >Python Practice Notebooks for Week 4"
   ]
  },
  {
   "cell_type": "markdown",
   "metadata": {},
   "source": [
    "# <span style='color:red' >Python Practice 1  - Writing functions"
   ]
  },
  {
   "cell_type": "markdown",
   "metadata": {},
   "source": [
    "### Example 1.  Write a function to convert inches to centimeters \n",
    "\n",
    "Assume that 1 inch is approximately 2.54 centimeters\n",
    "\n",
    "Input:  inches to convert\n",
    "\n",
    "Output : number of centimeters equivalent to given number of inches"
   ]
  },
  {
   "cell_type": "code",
   "execution_count": null,
   "metadata": {},
   "outputs": [],
   "source": [
    "def convert_inches_cm ( ) :\n",
    "#\n",
    "# ****************************************\n",
    "# add comment statements describing function\n",
    "# ****************************************\n",
    "# \n",
    "\n",
    "# test out function\n",
    "inches = 10\n",
    "centimeters = convert_inches_cm(inches)\n",
    "print (f\"{inches} inches is equivalent to {centimeters} centimeters\" )"
   ]
  },
  {
   "cell_type": "markdown",
   "metadata": {},
   "source": [
    "### Example 2.  Write a function to determine if the values in a list are between two given numbers.\n",
    "\n",
    "Input:  given list, upper and lower bounds\n",
    "\n",
    "Output: Boolean which = True if numbers are between bounds and False if not\n",
    "\n",
    "Test your function for values of upper and lower where the result should be True and other values where it should be false"
   ]
  },
  {
   "cell_type": "code",
   "execution_count": 3,
   "metadata": {},
   "outputs": [],
   "source": [
    "def check_within_bounds ( ) :\n",
    "#\n",
    "# ****************************************\n",
    "# add comment statements describing function\n",
    "# \n",
    "  "
   ]
  },
  {
   "cell_type": "code",
   "execution_count": null,
   "metadata": {},
   "outputs": [],
   "source": [
    "# test function\n",
    "my_list = [ 5, 21, 51, 17]\n",
    " "
   ]
  },
  {
   "cell_type": "markdown",
   "metadata": {},
   "source": [
    "### Example 3.  Write a function to compute the federal taxes based on income; see If-elif notebook example.\n",
    "\n",
    "  The tax rate for an individual is often based on income.  For 2019 the federal tax rates are:\n",
    "  \n",
    "| Tax rate |  Income in dollars|\n",
    "|:---------|:-----------|\n",
    "| 10 %     | 0 -  9875  |\n",
    "| 12 %     | 9876 - 40,125  |\n",
    "| 22 %     | 40126 - 85525  |\n",
    "| 24 %     |   85526 - 163,300  |\n",
    "|32 %     |  163,301- 207,350 |\n",
    "|35 %     |    207,351 - 518,400 |\n",
    "|37 %     |  > 518,400 |\n",
    " \n",
    "\n",
    "Input:  Income\n",
    "\n",
    "Output: federal taxes \n",
    "\n",
    "Try your function for different incomes."
   ]
  },
  {
   "cell_type": "markdown",
   "metadata": {},
   "source": [
    " # <span style='color:red' >Python Practice 2  - Importing  and Using NumPy Library"
   ]
  },
  {
   "cell_type": "markdown",
   "metadata": {},
   "source": [
    "### Example 1.  - Importing a library with an alias (shortened name)\n",
    "\n",
    "1. Import the library ```numpy```   with the alias ```np``` \n"
   ]
  },
  {
   "cell_type": "code",
   "execution_count": 2,
   "metadata": {},
   "outputs": [],
   "source": [
    " "
   ]
  },
  {
   "cell_type": "markdown",
   "metadata": {},
   "source": [
    "### Example 2.\n",
    "\n",
    "\n",
    "Use the given Python list to complete the following:\n",
    "1. Print out the list\n",
    "1. Convert the Python list to a NumPy array and give it the name my\\_array; print out (Notice how no commas are added between elements when the Numpy array is printed.)\n",
    " "
   ]
  },
  {
   "cell_type": "code",
   "execution_count": null,
   "metadata": {},
   "outputs": [],
   "source": [
    "my_list = [-2, 4,  3, 5]"
   ]
  },
  {
   "cell_type": "markdown",
   "metadata": {},
   "source": [
    "### Example 3.\n",
    "\n",
    "Compare the results of the following two Python commands\n",
    " \n",
    "``` \n",
    "5 * my_list\n",
    "5 * my_array\n",
    "    ```"
   ]
  },
  {
   "cell_type": "code",
   "execution_count": null,
   "metadata": {},
   "outputs": [],
   "source": [
    " "
   ]
  },
  {
   "cell_type": "markdown",
   "metadata": {},
   "source": [
    "### Example 4.\n",
    " \n",
    " 1.  Find the sum of all elements in your NumPy array and print out\n",
    " 1.  Print out the maximum and minimum elements in your NumPy array"
   ]
  },
  {
   "cell_type": "code",
   "execution_count": null,
   "metadata": {},
   "outputs": [],
   "source": []
  },
  {
   "cell_type": "markdown",
   "metadata": {},
   "source": [
    "### Example 5.\n",
    "\n",
    "1.  Create a 1D NumPy array of length 10 with all zeros.\n",
    "1.  Create a 1D NumPy array of length 10 with 5 in each entry. "
   ]
  },
  {
   "cell_type": "code",
   "execution_count": null,
   "metadata": {},
   "outputs": [],
   "source": []
  },
  {
   "cell_type": "markdown",
   "metadata": {},
   "source": [
    "### Example 6.\n",
    "\n",
    " Use ```np.linspace``` to divide the interval [0,1] into 10 equal subintervals of length 0.1; print out the 11 points which divide interval (including endpoints 0 and 1)."
   ]
  },
  {
   "cell_type": "markdown",
   "metadata": {},
   "source": [
    "# <span style = \"color:red\">Python Practice 3 Week 4   -   Plotting"
   ]
  },
  {
   "cell_type": "markdown",
   "metadata": {},
   "source": [
    "### Example 1.\n",
    "\n",
    "Import plotting library matplotlib.pyplot using the alias plt\n",
    "\n",
    "Import Numpy with alias np"
   ]
  },
  {
   "cell_type": "code",
   "execution_count": null,
   "metadata": {},
   "outputs": [],
   "source": []
  },
  {
   "cell_type": "markdown",
   "metadata": {},
   "source": [
    "### Example 2.\n",
    " \n",
    "Use the given NumPy arrays to make a scatter plot of the data using ```plt.scatter```\n",
    " "
   ]
  },
  {
   "cell_type": "code",
   "execution_count": null,
   "metadata": {},
   "outputs": [],
   "source": [
    "x= np.array( [1,2,3,4,5])\n",
    "y= np.array([2, 4, 6, 16,25]) "
   ]
  },
  {
   "cell_type": "markdown",
   "metadata": {},
   "source": [
    " ### Example 3.\n",
    " \n",
    "Use the given NumPy arrays to complete the following:\n",
    " \n",
    "1. Make a scatter plot of the data using ```plt.plot``` where data is indicated by a  green plus sign\n",
    "1. Add a title and x,y axis labels to your plot."
   ]
  },
  {
   "cell_type": "code",
   "execution_count": null,
   "metadata": {},
   "outputs": [],
   "source": [
    "x= np.array( [1,2,3,4,5])\n",
    "y= np.array([2, 4, 6, 16,25]) "
   ]
  },
  {
   "cell_type": "markdown",
   "metadata": {},
   "source": [
    "### Example 4.\n",
    "\n",
    "Create a plot of the cosine function from -2pi to 2pi; connect points and plot in red.  Use the Numpy function ```x = np.linspace()``` to create 100 x-points on the given interval  and then the Numpy cosine function ```np.cos(x)``` to create the y-points; add plot title.  Remember that Python does NOT have a built-in value for pi; you need to use ```np.pi```"
   ]
  },
  {
   "cell_type": "code",
   "execution_count": null,
   "metadata": {},
   "outputs": [],
   "source": []
  }
 ],
 "metadata": {
  "kernelspec": {
   "display_name": "Python 3",
   "language": "python",
   "name": "python3"
  },
  "language_info": {
   "codemirror_mode": {
    "name": "ipython",
    "version": 3
   },
   "file_extension": ".py",
   "mimetype": "text/x-python",
   "name": "python",
   "nbconvert_exporter": "python",
   "pygments_lexer": "ipython3",
   "version": "3.8.5"
  }
 },
 "nbformat": 4,
 "nbformat_minor": 2
}
