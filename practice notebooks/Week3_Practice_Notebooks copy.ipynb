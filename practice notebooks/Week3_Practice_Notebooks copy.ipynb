{
 "cells": [
  {
   "cell_type": "markdown",
   "metadata": {},
   "source": [
    "# <span style=\"color:green\"> Week 3 Practice Notebooks"
   ]
  },
  {
   "cell_type": "markdown",
   "metadata": {},
   "source": [
    "## <span style=\"color:red\"> Python Practice 1   - Conditionals\n",
    "\n",
    " "
   ]
  },
  {
   "cell_type": "markdown",
   "metadata": {},
   "source": [
    "### <span style=\"color:blue \"> If  conditional\n",
    "\n",
    "The simplest type of conditional is where you perform a block of code if a condition is satisfied and do nothing if the condition is not satisfied.  Remember to add a colon after the ```if ()``` statement and the code you want to be executed should be indented.\n",
    "\n",
    "Syntax:\n",
    "\n",
    "``` if (condition) :\n",
    "       block of code to execute```\n",
    "\n",
    "Define variables a, b as numbers (given in notebook)\n",
    "1.  Write a conditional to check if a variable a is greater than or equal to b; if it is, print out a,b and the fact that a is greater than b using f-formatted statement \n",
    "1.  Write a conditional to check if a is  equal to b; if it is, print a out; remember that to check if one thing is equal to another use ==\n",
    "1.  Write a conditional to check if a is NOT equal to b; if it is, print a out; remember that to check if one thing is not equal to another use !="
   ]
  },
  {
   "cell_type": "code",
   "execution_count": 16,
   "metadata": {},
   "outputs": [],
   "source": [
    "# Write a conditional to check if a is greater than or equal to b; if it is, print out \n",
    "a = 15; b = 6\n",
    " "
   ]
  },
  {
   "cell_type": "code",
   "execution_count": 3,
   "metadata": {},
   "outputs": [],
   "source": [
    "# Write a conditional to check if a is  equal to b; if it is, print this out\n",
    "a= 15; b = 6\n"
   ]
  },
  {
   "cell_type": "code",
   "execution_count": 17,
   "metadata": {},
   "outputs": [],
   "source": [
    "# Write a conditional to check if a is NOT equal to b; if it is, print a out;\n",
    "a = 6; b = 15\n",
    " "
   ]
  },
  {
   "cell_type": "markdown",
   "metadata": {},
   "source": [
    "###  <span style=\"color:blue \"> If - else conditional\n",
    "\n",
    "Oftentimes we want to do one thing if the condition is true and another if it is false.  In this case we use the if-else construct.\n",
    "\n",
    "Syntax:\n",
    "\n",
    "```\n",
    "if (condition) :\n",
    "       block of code to execute\n",
    "else :\n",
    "       another block of code to execute```\n",
    "       \n",
    "Remember to add the colon after both the if and else statements. \n",
    "\n",
    "The else statement should NOT be indented; only the blocks of code to execute should be indented.\n",
    "\n",
    "1. Write a conditional to check if a is not equal to b; if True print out the statement \n",
    "\"a is not equal to b\"; if false print out the statement that \"a is equal to b\".  Check your code by choosing values of a and b equal then values where they are not equal\n",
    " \n",
    "1.  Write a conditional to check the length of a string.  If it has <= 10 characters print this fact out; otherwise print out that the string has more than 10 characters. Test your code on two different strings where one string has <= 10 characters and the other has 11 or more characters.\n"
   ]
  },
  {
   "cell_type": "code",
   "execution_count": 18,
   "metadata": {},
   "outputs": [],
   "source": [
    "# Write a conditional to check if a is not equal to b; if True print out the statement \n",
    "# \"a is not equal to b\"; if false print out the statement that \"a is equal to b\"\n",
    "# Check your code by choosing values for a & b which are equal and which are not equal\n",
    "a = 14; b = 16\n",
    " "
   ]
  },
  {
   "cell_type": "code",
   "execution_count": 19,
   "metadata": {},
   "outputs": [],
   "source": [
    "#Write a conditional to check the length of the given string.  Remember to do this we\n",
    "# use the function  len()  with the string (or list) name in parenthesis\n",
    "#\n",
    "# If string has <= 10 characters print this fact out; \n",
    "# otherwise print out that the string has more than 10 characters.\n",
    "# Test your code on strings which satisfy each condition\n",
    "\n",
    "s = \"Florida Seminoles\"\n",
    " "
   ]
  },
  {
   "cell_type": "markdown",
   "metadata": {},
   "source": [
    "###  <span style=\"color:blue \"> If - elif - else conditional\n",
    "\n",
    "Lastly we might need to chain several conditionals together.  In this case we use the if-elif-else construct.  Each elif must have a condition to check.  If the conditions given in the if and elif statements are not satisfied then the else statement is executed.\n",
    "\n",
    "Syntax:\n",
    "```\n",
    "if (condition 1) :\n",
    "       block of code to execute only when  condition 1 is true\n",
    "elif  (condition 2 ):\n",
    "       another block of code to execute only if cond.1 is false and cond. 2 is true\n",
    "elif  (condition 3 ):\n",
    "       another block of code to execute only if conds. 1&2 are false and cond 3 is true \n",
    "else :\n",
    "       another block of code to execute only if  conditions 1, 2 & 3 aren't true\n",
    "       \n",
    "       ```\n",
    "       \n",
    "Note that if condition # 1 is true none of the other conditions are checked.  Likewise if condition # 1 is false and condition # 2 is true no other conditions are checked, etc.  You can have as many ```elif``` statements as necessary.  If you want to execute a block of code if none of the other conditions are satisfied you need an ```else``` statement as the last in the conditional block."
   ]
  },
  {
   "cell_type": "markdown",
   "metadata": {},
   "source": [
    "Write an if-elif-else conditional to perform the following:\n",
    "\n",
    "- If x is less than 0 print out that \"x is negative\"\n",
    "- If x is positive and less than  100 print out \"x is a positive number less than 100\"\n",
    "- If neither condition is satisfied print out that \"x is a positive number greater than or equal to 100\"\n",
    "\n",
    "Test your code for different values of x so that each possibility is checked.   "
   ]
  },
  {
   "cell_type": "code",
   "execution_count": null,
   "metadata": {},
   "outputs": [],
   "source": [
    " "
   ]
  },
  {
   "cell_type": "markdown",
   "metadata": {},
   "source": [
    "Assume that a salesman's commission is based on how close his actual sales are to his target sales determined by:\n",
    "\n",
    "- commission rate = 2% if the actual sales are <90% of the target sales;\n",
    "- commission rate = 3% if the actual sales are >=90% and less than 99% of the target sales;\n",
    "- commission rate = 3.5% if the actual sales are >=99% and less than 110% of the target sales;\n",
    "- commission rate = 4% if the actual sales are >=110% of the target sales.\n",
    "  \n",
    " Write a conditional block using the If-elif-elif-else format which prints out the rate and total commission amount.  Test your code on various values of the sales and target amounts.\n",
    "\n",
    "\n",
    "Hint:  In each block of code for the conditionals you need to input the rate based on the values above and compute the commission as ```rate * sales```.  Using the values above (like 90 percent) you can just check, e.g.,  ```sales/target <0.9```"
   ]
  },
  {
   "cell_type": "code",
   "execution_count": 20,
   "metadata": {},
   "outputs": [],
   "source": [
    "sales=230000; target = 210000\n",
    " "
   ]
  },
  {
   "cell_type": "code",
   "execution_count": null,
   "metadata": {},
   "outputs": [],
   "source": []
  },
  {
   "cell_type": "markdown",
   "metadata": {},
   "source": [
    "# <span style=\"color:red\">Python Practice 2  - for & while loops\n",
    "\n"
   ]
  },
  {
   "cell_type": "markdown",
   "metadata": {},
   "source": [
    "### <span style=\"color:blue\"> For loops\n",
    "There are 2 forms of ```for``` loops that we consider.  The first is where we iterate over a list or string and the second is when we give  the iterator a range of values to take.\n",
    "\n",
    "```for item in list or string :\n",
    "        execute some code ```\n",
    "        \n",
    "and\n",
    "\n",
    "``` for i in range (m,n ) :\n",
    "       execute some code ```\n",
    "       \n",
    "Remember that in the latter case the loop starts with i=m and each time increments i by 1 until i=n when the loop is terminated at the for statement so the code is NOT executed when i=n\n",
    "\n",
    "In the second type of for loop if you want to increment the iterator with a value other than 1 you must add this; for example `for i in range(m,n,2) ` to increment i by 2 instead of 1"
   ]
  },
  {
   "cell_type": "code",
   "execution_count": 1,
   "metadata": {},
   "outputs": [],
   "source": [
    "# write a for loop to cube the variable x and print out x and its cube where x \n",
    "# takes on values from the given list\n",
    "\n",
    "my_list = [ 1, 2, 3, 4, 5]\n",
    " "
   ]
  },
  {
   "cell_type": "code",
   "execution_count": 2,
   "metadata": {},
   "outputs": [],
   "source": [
    "# write a for loop using range(m,n) to print out x^3 where x ranges from 1 to 5"
   ]
  },
  {
   "cell_type": "code",
   "execution_count": 3,
   "metadata": {},
   "outputs": [],
   "source": [
    "# write statements to print out each letter in the string \"Go Noles\" except the space (use\n",
    "# a conditional to avoid printing out space)\n",
    " "
   ]
  },
  {
   "cell_type": "code",
   "execution_count": 4,
   "metadata": {},
   "outputs": [],
   "source": [
    "# write a for loop using range to print out x^3 where x is an ODD number \n",
    "# from 1 to 5\n",
    " "
   ]
  },
  {
   "cell_type": "markdown",
   "metadata": {},
   "source": [
    "###  <span style=\"color:blue\"> While loops\n",
    "\n",
    "Syntax:\n",
    "\n",
    "``` while (condition) :\n",
    "        execute some code ```\n",
    "        \n",
    "The indented statements are executed while the given condition is true"
   ]
  },
  {
   "cell_type": "code",
   "execution_count": 15,
   "metadata": {},
   "outputs": [],
   "source": [
    "# write a while loop to print out x^3 while x <= 5; initialize x to 1\n",
    "# remember to increment x in the loop or else the while condition will never be satisfied\n",
    "# If this happens go up to Kernel menu and click \"interrupt\"\n",
    " "
   ]
  },
  {
   "cell_type": "code",
   "execution_count": null,
   "metadata": {},
   "outputs": [],
   "source": []
  },
  {
   "cell_type": "code",
   "execution_count": 6,
   "metadata": {},
   "outputs": [],
   "source": [
    "# write a while loop to print out x^3 for all ODD numbers from 1 to 5 \n",
    "# remember to increment x in the loop or else the while condition will never be satisfied\n",
    "# If this happens go up to Kernel menu and click \"interrupt\"\n",
    "# Hint:  To cube only the odd numbers you can either (1) start with 1 and increment\n",
    "# x by 2 instead of 1 OR (2) use the modulo function to check if x is odd; if true compute \n",
    "# cube of x\n",
    " "
   ]
  },
  {
   "cell_type": "code",
   "execution_count": null,
   "metadata": {},
   "outputs": [],
   "source": []
  },
  {
   "cell_type": "markdown",
   "metadata": {},
   "source": [
    "# <span style=\"color:red\">Python Practice 3  - List Comprehensions and Nested Loops"
   ]
  },
  {
   "cell_type": "markdown",
   "metadata": {},
   "source": [
    "###  <span style=\"color:blue \"> Part I. List Comprehensions\n",
    "1.  List comprehension for iterating over a Python list\n",
    "\n",
    "  - create a list of the square of the first 7 Fibonnaci numbers using a for loop; print out (list of Fibonnaci numbers is given)\n",
    "  - create a list of the square of the first 7 Fibonnaci numbers using list comprehension; print out\n",
    "  \n",
    "\n",
    "2.  List comprehension for iterating over a Python list with a conditional\n",
    "\n",
    "  - create a list of the square of the first   Fibonnaci numbers whose square is less than 100 using a for loop; print out\n",
    "  - create a list of the square of the first  Fibonnaci numbers whose square is less than 100 using list comprehension with a conditional; print out\n",
    "  \n",
    "\n",
    "3.  Repeat (1) where we use a loop over a range\n",
    "\n",
    " \n"
   ]
  },
  {
   "cell_type": "code",
   "execution_count": 7,
   "metadata": {},
   "outputs": [],
   "source": [
    "#1. List comprehensions by iterating over a Python list\n",
    "#\n",
    "fib = [1, 2, 3, 5, 8, 13, 21] # list of first 7 Fibonacci numbers\n",
    "#\n",
    "# create a list of squares of first 7 Fibonacci numbers using a for loop\n",
    "#\n",
    " \n",
    "#\n",
    "# create a list of squares of first 7 Fibonacci numbers using list comprehension\n",
    " "
   ]
  },
  {
   "cell_type": "code",
   "execution_count": 8,
   "metadata": {},
   "outputs": [],
   "source": [
    "#2. List comprehension for iterating over a Python list where we add a conditional\n",
    "#\n",
    "# Use for to create a list of squares of all Fibonacci number where\n",
    "# the square is less than 100\n",
    "  \n",
    "#\n",
    "# Use list comprehension to create a list of squares of all Fibonacci number where\n",
    "# the square is less than 100"
   ]
  },
  {
   "cell_type": "code",
   "execution_count": 9,
   "metadata": {},
   "outputs": [],
   "source": [
    "#3. List comprehensions by using a for loop with a range\n",
    "#\n",
    "fib = [1, 2, 3, 5, 8, 13, 21] # list of first 7 Fibonacci numbers\n",
    "#\n",
    "# create a list of squares of first 7 Fibonacci numbers using a for loop\n",
    "#\n",
    " \n",
    "#\n",
    "# create a list of squares of first 7 Fibonacci numbers using list comprehension\n",
    " "
   ]
  },
  {
   "cell_type": "markdown",
   "metadata": {},
   "source": [
    "###  <span style=\"color:blue \"> Part II.  Nested Loops\n",
    "\n",
    "Nested loops just means we put one loop inside of another.  Remember that the iterator for the outer loop is not incremented until the inner loop is complete.\n",
    "\n",
    "I have added a cell with a nested loop in which I print out the value of each iterator so you can remind yourself how they work.\n",
    "\n",
    "1.  Write a nested __for__ loop inside another __for__ loop to take the sum of each number in the first list with each number in the second list. Print out the  numbers being summed and their sum.\n",
    "\n",
    "1.  Write a nested __for__ loop to check if each number in a given list is divisible by 2 or by 3.  Print out results."
   ]
  },
  {
   "cell_type": "code",
   "execution_count": 10,
   "metadata": {},
   "outputs": [
    {
     "name": "stdout",
     "output_type": "stream",
     "text": [
      "the value of i is 0 and the value of j is 3\n",
      "the value of i is 0 and the value of j is 4\n",
      "the value of i is 1 and the value of j is 3\n",
      "the value of i is 1 and the value of j is 4\n"
     ]
    }
   ],
   "source": [
    "#This nested loop is for reference to understand how nested loops work\n",
    "#\n",
    "for i in range (0,2) :  #  i takes on the values 0 and 1 in this loop\n",
    "    for j in range (3,5) : # j takes on the values of 3 and 4\n",
    "        print (f\"the value of i is {i} and the value of j is {j}\")\n",
    "#\n",
    "# Note that i is not incremented until the j loop is complete"
   ]
  },
  {
   "cell_type": "code",
   "execution_count": 13,
   "metadata": {},
   "outputs": [],
   "source": [
    "# 1.  Using a nested for loop take sum of each number in the first list with each number in second list.\n",
    "# Print out the  numbers being summed and their sum.\n",
    "list1 = [ 1, 2, 3, 4]\n",
    "list2 = [10, 20]"
   ]
  },
  {
   "cell_type": "code",
   "execution_count": 12,
   "metadata": {},
   "outputs": [],
   "source": [
    "# 2.Write a nested __for__ loop to check if each number in a given list \n",
    "# is divisible by 2 or by 3.  Print out results.\n",
    "my_list = [3, 8, 12]"
   ]
  },
  {
   "cell_type": "code",
   "execution_count": null,
   "metadata": {},
   "outputs": [],
   "source": []
  }
 ],
 "metadata": {
  "kernelspec": {
   "display_name": "Python 3",
   "language": "python",
   "name": "python3"
  },
  "language_info": {
   "codemirror_mode": {
    "name": "ipython",
    "version": 3
   },
   "file_extension": ".py",
   "mimetype": "text/x-python",
   "name": "python",
   "nbconvert_exporter": "python",
   "pygments_lexer": "ipython3",
   "version": "3.8.5"
  }
 },
 "nbformat": 4,
 "nbformat_minor": 2
}
