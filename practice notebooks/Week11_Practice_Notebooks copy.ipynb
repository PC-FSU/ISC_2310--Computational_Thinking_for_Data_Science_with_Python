{
 "cells": [
  {
   "cell_type": "markdown",
   "metadata": {},
   "source": [
    "# Practice Notebook 1 for Week 11 - KMeans in 2-D\n",
    "\n",
    "In this notebook you cluster 200 points in two dimensions using KMeans.  The points are generated using a function in Scikit-learn which creates \"blobs\" so that we visually know the results we should get.  I provide code to generate the blobs and calculate the means/centroid of each blob.  We then perform KMeans clustering using a random initial guess.  Remember that KMeans is an iterative algorithm so to get an idea of what is happening at each iteration we look at the first two iterations of   KMeans using a given initial guess.\n",
    "\n",
    "1.  Import libraries\n",
    "1.  Create blobs (just enter cell) and plot\n",
    "1.  Calculate means/centroids of each blob (just enter cell); the blob means are stored in an array dimensioned 5 by 2 called ```blob_mean```; for example, ```blob_mean[0,0]``` will be the x-coordinate for the first blob and ```blob_mean[0,1]``` will be the y-coordinate for the first blob \n",
    "1. Create KMeans model and fit data x which is already in the correct shape (200 by 2)\n",
    "1. Plot the clusters results from KMeans and visually compare with original clusters\n",
    "1. Print out the KMeans centroids along with original centroids for comparison\n",
    "1. Perform 1 iteration of KMeans with the given initial guess for the centroids; plot and compare centroids\n",
    "1. Perform 2 iterations of KMeans with the given initial guess for the centroids; plot and compare centroids\n"
   ]
  },
  {
   "cell_type": "code",
   "execution_count": 2,
   "metadata": {},
   "outputs": [],
   "source": [
    "# Import libraries\n",
    "import numpy as np\n",
    "import matplotlib.pyplot as plt \n",
    "import pandas as pd\n",
    "from pandas import DataFrame, Series\n",
    "import seaborn as sns\n",
    "#\n",
    "from sklearn.cluster import KMeans  \n",
    "from sklearn.datasets import make_blobs"
   ]
  },
  {
   "cell_type": "code",
   "execution_count": 107,
   "metadata": {},
   "outputs": [
    {
     "data": {
      "image/png": "[encoded data removed]",
      "text/plain": [
       "<Figure size 432x288 with 1 Axes>"
      ]
     },
     "metadata": {
      "needs_background": "light"
     },
     "output_type": "display_data"
    }
   ],
   "source": [
    "# # Create a data set in 2 dimensions using make_blobs\n",
    "#\n",
    "# The function make_blobs stores the data in x and the cluster each point belongs to in y\n",
    "#\n",
    "(x,y)= make_blobs (\n",
    "    n_samples =200, n_features=2,centers=5,cluster_std=0.5,\n",
    "    shuffle=True,random_state=0\n",
    "    ) \n",
    "plt.scatter(\n",
    "    x[:,0],x[:,1],\n",
    "    c='white', edgecolor='black',marker='o', s=50)\n",
    "plt.show()"
   ]
  },
  {
   "cell_type": "code",
   "execution_count": 108,
   "metadata": {},
   "outputs": [
    {
     "name": "stdout",
     "output_type": "stream",
     "text": [
      "Blob 1 has centroid: ( 0.9148227503116141,  4.280336857833884 )  \n",
      "Blob 2 has centroid: ( 2.054873265582555,  1.1110568334393494 )  \n",
      "Blob 3 has centroid: ( -1.543516197703645,  2.8134551104965806 )  \n",
      "Blob 4 has centroid: ( -1.3675452152752192,  7.891534958387625 )  \n",
      "Blob 5 has centroid: ( 9.210599887923255,  -2.473923314565855 )  \n"
     ]
    }
   ],
   "source": [
    "# Calculate centroids of blobs; remember that the array y contains cluster number\n",
    "n = len(y)\n",
    "n_blobs=5\n",
    "n_points_blob = 40.\n",
    "blob_mean = np.zeros( ( n_blobs,2) )  \n",
    "# \n",
    "# Loop to sum up x and y coordinates of each point in blob\n",
    "for i in range (0,n):\n",
    "        blob=y[i]  # given blob index  (0,1,2,3,4)\n",
    "        blob_mean [blob,0] = blob_mean [blob,0] + x[i,0]\n",
    "        blob_mean [blob,1] = blob_mean [blob,1] + x[i,1]\n",
    "\n",
    "# Loop to divide by number of points in blob and print out\n",
    "for k in range (0,n_blobs) :\n",
    "        blob_mean [k,:] = blob_mean [k,:] / n_points_blob \n",
    "        print (f\"Blob {k+1} has centroid: ( { blob_mean [k,0] },  { blob_mean [k,1] } )  \" ) \n",
    "    "
   ]
  },
  {
   "cell_type": "code",
   "execution_count": 1,
   "metadata": {},
   "outputs": [],
   "source": [
    "# Create KMeans model and fit data in array x which is in the correct shape:  200 by 2\n",
    "\n",
    " "
   ]
  },
  {
   "cell_type": "code",
   "execution_count": 2,
   "metadata": {},
   "outputs": [],
   "source": [
    "# Plot clusters using colors and compare visually with blob plot above\n",
    " "
   ]
  },
  {
   "cell_type": "code",
   "execution_count": 4,
   "metadata": {},
   "outputs": [
    {
     "name": "stdout",
     "output_type": "stream",
     "text": [
      "          KMeans Centroids                              Original Centroids \n",
      "\n"
     ]
    }
   ],
   "source": [
    "# Print out final clusters centroids and print out actual centroids to compare\n",
    "#\n",
    "print (\"          KMeans Centroids             \", \"                Original Centroids \")\n",
    "print( )\n",
    " \n",
    "# Note that Kmeans cluster 3 corresponds to our cluster 5 and vice versa"
   ]
  },
  {
   "cell_type": "markdown",
   "metadata": {},
   "source": [
    "### KMeans is an iterative algorithm\n",
    "\n",
    "Now that we know that KMeans gives us the answer we expect using several iterations let's look at what is happens at the end of the first two iterations.\n",
    "\n",
    "To see the results at the end of the first iteration you need to set the argument ```max_iter=1``` \n",
    "To see the results at the end of the second iteration you need to set the argument ```max_iter=2``` \n",
    "\n",
    "Use the given initial guess for the centroids.  Perform 1 iteration and plot.  Compare centroids with actual values.\n",
    "\n",
    "Repeat for 2 iterations.  Notice how points are moving from 1 cluster to the next.\n",
    " "
   ]
  },
  {
   "cell_type": "code",
   "execution_count": 8,
   "metadata": {},
   "outputs": [
    {
     "name": "stdout",
     "output_type": "stream",
     "text": [
      "\n",
      "******************************************\n",
      "Results for 1st iteration of KMeans\n"
     ]
    }
   ],
   "source": [
    "#  1 iteration\n",
    "centroids = np.array( [ [-3,-2], [-2,12], [3,8], [12,0], [2,12] ])\n",
    "  \n",
    "print ()\n",
    "print (\"******************************************\")\n",
    "print (\"Results for 1st iteration of KMeans\")\n",
    " "
   ]
  },
  {
   "cell_type": "code",
   "execution_count": 9,
   "metadata": {},
   "outputs": [
    {
     "name": "stdout",
     "output_type": "stream",
     "text": [
      "\n",
      "******************************************\n",
      "Results for 2nd iteration of KMeans\n"
     ]
    }
   ],
   "source": [
    "#  2  iterations\n",
    "centroids = np.array( [ [-3,-2], [-2,12], [3,8], [12,0], [2,12] ])\n",
    "  \n",
    "print ()\n",
    "print (\"******************************************\")\n",
    "print (\"Results for 2nd iteration of KMeans\")\n",
    " "
   ]
  },
  {
   "cell_type": "markdown",
   "metadata": {},
   "source": [
    "# Week 11 Practice 2 - Manipulating Dataframes & K-Means - Answers\n",
    "\n",
    "In this practice notebook we return to a dataset we previously used and now apply K-Means to cluster the data. However, we first explore the data set using some of the functionality learned in Pandas Part 4.  This will help you in your next project.\n",
    "\n",
    "In the file `insurance.csv` we have data for the yearly insurance costs of individuals based upon several factors such as age, BMI, smoking habits, etc.\n",
    "\n",
    "We want to cluster the data using __age, BMI__ and __insurance costs__. We  compare the two results.\n",
    "\n",
    "* Import libraries and K-Means model\n",
    "* Create dataframe by reading in file 'insurance.csv'; print out first 10 lines\n",
    "* Create a new dataframe which only has the two features (age and bmi)and the charges\n",
    "* Determine how many data instances there are (there are many ways to do this; for example, using  .info( )\n",
    "* Extract NumPy array for costs; print out maximum and minimum value for insurance costs\n",
    "* Print out the data instance for the maximum insurance charges\n",
    "* Print out all data instances where the  charges are more than  60,000 dollars\n",
    "* Print out all data instances where bmi > 35 and charges > 50,000 dollars\n",
    "* Delete  all data instances where the charges are more than  60,000 dollars; how many data instances do you currently have?\n",
    "* Determine how many data instances have charges <   1500 dollars (use .shape[0] )\n",
    "* Extract NumPy arrays for age, BMI and charges.  Remember that the charges you extracted earlier has more data instances than are currently in the dataframe because you deleted some data.  Scale the charges so that they are between 0 and 100 dollars; we do this because   these values are so much larger than age or BMI.  Use the formula\n",
    "      scaled cost = 100. *(cost - cmin) / (cmax - cmin)   where cmin is minimum insurance cost and cmax the maximum\n",
    "* Add column to dataframe with these scaled costs and delete the column with unscaled costs.\n",
    "* Extract NumPy array for scaled costs; put your data (age, bmi, scaled costs) into a 2D array dimensioned by the current number of data instances by 3\n",
    "* Create 4 clusters using K-Means; print out labels\n",
    "* Add cluster column to dataframe indicating which cluster each point is in\n",
    "* Create a scatterplot using relplot of charges vs bmi using color for the cluster\n",
    "* Create a scatterplot using relplot of charges vs age using color for the cluster "
   ]
  },
  {
   "cell_type": "code",
   "execution_count": null,
   "metadata": {},
   "outputs": [],
   "source": [
    "# Import libraries\n",
    "import numpy as np\n",
    "import matplotlib.pyplot as plt \n",
    "import pandas as pd\n",
    "from pandas import DataFrame, Series\n",
    "import seaborn as sns\n",
    "\n",
    "# Import models\n",
    "from sklearn.cluster import KMeans  "
   ]
  },
  {
   "cell_type": "code",
   "execution_count": null,
   "metadata": {},
   "outputs": [],
   "source": [
    "# Create dataframe from  file insurance.csv"
   ]
  },
  {
   "cell_type": "code",
   "execution_count": null,
   "metadata": {},
   "outputs": [],
   "source": [
    "#Create a new dataframe which only has the two features (age and bmi)and the charges\n",
    "#\n",
    " "
   ]
  },
  {
   "cell_type": "code",
   "execution_count": null,
   "metadata": {},
   "outputs": [],
   "source": [
    "# Determine how many data instances there are\n",
    " \n",
    "\n",
    "# so 1338 data instances"
   ]
  },
  {
   "cell_type": "code",
   "execution_count": null,
   "metadata": {},
   "outputs": [],
   "source": [
    "# Find the maximum & minimum value of the charges"
   ]
  },
  {
   "cell_type": "code",
   "execution_count": null,
   "metadata": {},
   "outputs": [],
   "source": [
    "# Print out the data instance where the max occurs \n",
    "   "
   ]
  },
  {
   "cell_type": "code",
   "execution_count": null,
   "metadata": {},
   "outputs": [],
   "source": [
    "# Print out all data instances where charges are >60,000"
   ]
  },
  {
   "cell_type": "code",
   "execution_count": null,
   "metadata": {},
   "outputs": [],
   "source": [
    "# Print out all data instances where bmi > 35 and charges > 50,000\n",
    " \n",
    " "
   ]
  },
  {
   "cell_type": "code",
   "execution_count": null,
   "metadata": {},
   "outputs": [],
   "source": [
    "# Delete all data instances where the charges are more than $60,000\n",
    " \n",
    "# Print out all data instances where charges are >60000 to check"
   ]
  },
  {
   "cell_type": "code",
   "execution_count": null,
   "metadata": {},
   "outputs": [],
   "source": [
    "# Scale costs between $0 and $100; round costs to 2 decimal places (for cents)\n",
    "# print out the first few entries to check\n",
    " "
   ]
  },
  {
   "cell_type": "code",
   "execution_count": null,
   "metadata": {},
   "outputs": [],
   "source": [
    "# Add column to dataframe with scaled charges and remove column with full charges\n",
    " "
   ]
  },
  {
   "cell_type": "code",
   "execution_count": null,
   "metadata": {},
   "outputs": [],
   "source": [
    "# Create 2D array and use KMeans with 4 clusters"
   ]
  },
  {
   "cell_type": "code",
   "execution_count": null,
   "metadata": {},
   "outputs": [],
   "source": [
    "# Print out the labels \n",
    " \n",
    "#\n",
    "# add column to dataframe giving cluster labels\n",
    " "
   ]
  },
  {
   "cell_type": "code",
   "execution_count": 3,
   "metadata": {},
   "outputs": [],
   "source": [
    "# Set white background grid for Seaborn plots\n",
    "sns.set_style ( \"whitegrid\")"
   ]
  },
  {
   "cell_type": "code",
   "execution_count": null,
   "metadata": {},
   "outputs": [],
   "source": [
    "# Create scatterplot of charges vs bmi with cluster indiciated by hue using Seaborn's relplot\n",
    " "
   ]
  },
  {
   "cell_type": "code",
   "execution_count": null,
   "metadata": {},
   "outputs": [],
   "source": [
    "# Create scatterplot of charges vs age with cluster indiciated by hue using Seaborn's relplot\n",
    " "
   ]
  },
  {
   "cell_type": "code",
   "execution_count": null,
   "metadata": {},
   "outputs": [],
   "source": []
  }
 ],
 "metadata": {
  "kernelspec": {
   "display_name": "Python 3",
   "language": "python",
   "name": "python3"
  },
  "language_info": {
   "codemirror_mode": {
    "name": "ipython",
    "version": 3
   },
   "file_extension": ".py",
   "mimetype": "text/x-python",
   "name": "python",
   "nbconvert_exporter": "python",
   "pygments_lexer": "ipython3",
   "version": "3.8.5"
  }
 },
 "nbformat": 4,
 "nbformat_minor": 2
}
