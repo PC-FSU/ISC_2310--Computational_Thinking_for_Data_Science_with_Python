{
 "cells": [
  {
   "cell_type": "markdown",
   "metadata": {},
   "source": [
    "## <span style=\"color:red\"> Week 2 Practice Notebooks"
   ]
  },
  {
   "cell_type": "markdown",
   "metadata": {},
   "source": [
    "## <span style=\"color:red\"> Practice Notebook 1 - Assigning Variables, Data Types and  Printing"
   ]
  },
  {
   "cell_type": "markdown",
   "metadata": {},
   "source": [
    "### <span style='color:blue' > Data Types\n",
    "\n",
    "This week, we learned about Python's basic, built-in data types. \n",
    "\n",
    "There are 4 \"primitive\", i.e., basic, data types that we will be using:\n",
    "\n",
    "- Integer  - a whole number which can be positive, negative or zero; no decimal point\n",
    "- Floating point - any number which contains a decimal point\n",
    "- Boolean - logical which is either True or False\n",
    "- String - ordered sequence of characters\n",
    "\n",
    "plus one more advanced type called a __list__.\n",
    "\n",
    "If you want to determine what data type something is, you can just ask Python by using the command ```type ( )```\n",
    "To use this command, just put the item which you want to know its data type inside the parentheses.\n",
    "\n",
    "1. Using the ```type()``` function determine the data type for  15\n",
    "1. Using the ```type()``` function determine the data type for  21.65"
   ]
  },
  {
   "cell_type": "code",
   "execution_count": null,
   "metadata": {},
   "outputs": [],
   "source": []
  },
  {
   "cell_type": "markdown",
   "metadata": {},
   "source": [
    "###  <span style='color:blue' > Defining a string\n",
    "\n",
    "A string is an ordered sequence of characters (letters, numbers, etc).  A string may be a single character or many characters. To tell Python that you are defining a string you must enclose it in parentheses and use quotes for the actual string (single or double but they must match). For example, ```my_school=(\"FSU\")```\n",
    " \n",
    " 1.  Print out the data type for the string __Goodnight All__ using the ```print()``` command\n",
    " 1.  Define a string called __animal__ containing the string __lion__ and print out using ```print()``` "
   ]
  },
  {
   "cell_type": "code",
   "execution_count": null,
   "metadata": {},
   "outputs": [],
   "source": []
  },
  {
   "cell_type": "markdown",
   "metadata": {},
   "source": [
    "### <span style='color:blue' > Defining a string or list\n",
    "\n",
    "Last week, we learned about Python's basic, built-in data types.  To define a string we surround the sequence of characters with quotes (single or double but they must match). To define a list we use square brackets [ ] with the items separated by commas.\n",
    "\n",
    "1.  Define a string using \"Toy Story 4\" and give it a name ; print it out\n",
    "1.  Define a list with the items \"quizzes\", .19, \"homework\", .15  ; give it a name and print it out"
   ]
  },
  {
   "cell_type": "code",
   "execution_count": null,
   "metadata": {},
   "outputs": [],
   "source": []
  },
  {
   "cell_type": "markdown",
   "metadata": {},
   "source": [
    " ###  <span style='color:blue' > Defining a list\n",
    "\n",
    "A __list__ is a data structure that is specific to Python and is not as basic as the other data types we have used.  We will be using lists a lot this semester.\n",
    "\n",
    "To let Python know that you have a list you must enclose it in square brackets [ ] and the items must be separated by commas. The syntax for a list is\n",
    "[ item1, item2, ...  ] \n",
    "The entries in a list can be any of the four basic data types or another list. Actually it can also contain other types of data structures which we haven't introduced yet.\n",
    "The items in a list are ordered.\n",
    "\n",
    "1. Define a list called __my_horses__ which contains the two strings __Sonata__ and __Ranger__; print out using ```print()```\n",
    "1. Define \\& print out a list containing the entries \n",
    "            16, 71.2 and the string January\n",
    "     "
   ]
  },
  {
   "cell_type": "markdown",
   "metadata": {},
   "source": [
    "## <span style=\"color:red\"> Practice Notebook 2 - Accessing Elements of Strings \\& Lists; Indexing"
   ]
  },
  {
   "cell_type": "markdown",
   "metadata": {},
   "source": [
    "### <span style='color:blue' > Defining a string or list\n",
    "\n",
    "First, we want to remind outselves how to define a string or a list.\n",
    "\n",
    "To define a string we surround the sequence of characters with quotes (single or double but they must match). To define a list we use square brackets [ ] with the items separated by commas.\n",
    "\n",
    "1.  Define a string using \"Toy Story 4\" and give it a name ; print it out\n",
    "1.  Define a list with the items \"quizzes\", .19, \"homework\", .15  ; give it a name and print it out"
   ]
  },
  {
   "cell_type": "code",
   "execution_count": null,
   "metadata": {},
   "outputs": [],
   "source": []
  },
  {
   "cell_type": "markdown",
   "metadata": {},
   "source": [
    "### <span style='color:blue' >  Accessing an element of a string or list; Indexing\n",
    "\n",
    "Individual elements of a string or list can be accessed using Python's square-bracket notation.  For example ```my_str[index of character]```.  So to access an element we need to know how Python defines the index of a character in a string or item in a list.  __Python ALWAYS indexes the first character in a string or the first item in a list as 0.__  So the second character/item is indexed as 1, the third as 2, etc.  So to access the ith character in a string you use the index i-1.   Python also allows negative indexing so the last item in a string or list has index = -1; the next to last has index = -2, etc.\n",
    " \n",
    " 1.  Print out the third character (\"y\") in your string.\n",
    " 1.  Print out the second item (.19) in your list. \n",
    " 1.  Print out the last character (\"4\") in your string using negative indexing.\n",
    " 1.  Print out the next to last  item( \"homework\" ) in your list using negative indexing.\n",
    " 1.  Print out the first item (\"quizzes\") in your list using negative indexing."
   ]
  },
  {
   "cell_type": "code",
   "execution_count": null,
   "metadata": {},
   "outputs": [],
   "source": []
  },
  {
   "cell_type": "markdown",
   "metadata": {},
   "source": [
    "###  <span style='color:blue' > Accessing a portion of a string or list\n",
    "\n",
    "To access more than one character in a string or more than one item in a list we use the colon (:) notation.  If we have an index followed by a colon then this gets the characters/items starting with the given index to the end of the string/list.  If we have a colon followed by an index then this gets the characters/items starting with the first character/item followed by characters/items up to but not including the one with the given index. If we have two indices separated by a colon then we start with the character/item with the first index and end with the last character/item before the second index.  Remember that if we have a colon followed by an index we don't include the character/item with this last index because it is __up to but not including__ the character/item with the second index.\n",
    "\n",
    "1. Print out the phrase Toy Story from your string using the colon notation.\n",
    "1. For your list define a new list with the last two items (\"homework\", .15) using the colon notation  and print out.\n",
    "1. For your string print out the word Story.\n",
    "1. Print out the second and third items in your list using the colon notation."
   ]
  },
  {
   "cell_type": "code",
   "execution_count": null,
   "metadata": {},
   "outputs": [],
   "source": []
  },
  {
   "cell_type": "markdown",
   "metadata": {},
   "source": [
    "###### Lists can be changed, strings can not.\n",
    "\n",
    "1. Change the last item in your list to .18 and print out the modified list.\n",
    "1. Try to change the last character in your string to \"3\""
   ]
  },
  {
   "cell_type": "code",
   "execution_count": null,
   "metadata": {},
   "outputs": [],
   "source": [
    " "
   ]
  },
  {
   "cell_type": "markdown",
   "metadata": {},
   "source": [
    "## <span style='color:red' >Practice Notebook 3: Methods and Functions for Strings \\& Lists "
   ]
  },
  {
   "cell_type": "markdown",
   "metadata": {},
   "source": [
    "\n",
    "In the previous videos/notebooks we saw that the syntax is different for a function than for a method.  In general, the syntax for a function is\n",
    "   ```Python \n",
    "function_name( arguments ) ```\n",
    "whereas when we use a method for a list we use the syntax  \n",
    " ```Python \n",
    "listname.methodname ( arguments ) ```\n",
    " Some methods don't have any arguments.\n",
    " \n",
    " \n",
    "\n",
    " \n",
    " "
   ]
  },
  {
   "cell_type": "markdown",
   "metadata": {},
   "source": [
    "## <span style='color:blue'> String Methods \n",
    "1.  Define a string \"It was the best of times\"\n",
    "1.  Use the ```upper``` method to print out the string all in upper case\n",
    "1.  Use the ```split``` method to create a list with just the separate  words in it; print out.  The default character to split a string by is the space; otherwise you put the character as an argument.\n",
    "1.  Make a list of all characters in your string formed by omitting the \"t\"; remember to put the separating character in quotes. \n",
    "\n"
   ]
  },
  {
   "cell_type": "code",
   "execution_count": null,
   "metadata": {},
   "outputs": [],
   "source": []
  },
  {
   "cell_type": "markdown",
   "metadata": {},
   "source": [
    "## <span style='color:blue'> List Functions\n",
    "For lists containing numerical values we can use the function ```max``` to find the maximum value in a list and ```min``` to find the minimum value. You can also sum  the values in your list using the function ```sum```.\n",
    "\n",
    "1. Create a list with both positive and negative integers\n",
    "1. Print out its maximum value.\n",
    "1. Print out its maximum value. \n",
    "1. Print out the sum of all the numbers in the list"
   ]
  },
  {
   "cell_type": "code",
   "execution_count": null,
   "metadata": {},
   "outputs": [],
   "source": []
  },
  {
   "cell_type": "markdown",
   "metadata": {},
   "source": [
    "## <span style='color:blue'> List  Methods \n",
    "    There are several methods for lists that are useful:\n",
    " ``` Python\n",
    ".append\n",
    ".pop\n",
    ".remove\n",
    ".insert\n",
    ".copy\n",
    ".index ```\n",
    "\n",
    "The difference in ```pop``` and ```remove``` is that ```pop``` removes the last item and ```remove``` is for deleting an item by its name (such as 17 or 'FSU')\n",
    "\n",
    "1. Append the string FSU to the end of the given list; print out the list\n",
    "1. Create a new list ```list2``` using ```copy```  and then remove  the 2 strings from it using the method ```pop``` (one at a time); print out."
   ]
  },
  {
   "cell_type": "code",
   "execution_count": null,
   "metadata": {},
   "outputs": [],
   "source": [
    "list1= [ 4.5, 7.1, 'Seminoles']"
   ]
  },
  {
   "cell_type": "code",
   "execution_count": null,
   "metadata": {},
   "outputs": [],
   "source": []
  },
  {
   "cell_type": "markdown",
   "metadata": {},
   "source": [
    "The method ```insert``` has two arguments; the first is the index where you want to put the item and the second is the item itself.  For ```remove``` you just give the  item you want removed.\n",
    "\n",
    "I have defined a list of colors.\n",
    "1. Remove `indigo` from the list and print out.\n",
    "1. Add `green` as the fourth item in the list and print out.\n",
    "1. Put `indigo` back into the list in the correct location.\n",
    " "
   ]
  },
  {
   "cell_type": "code",
   "execution_count": null,
   "metadata": {},
   "outputs": [],
   "source": [
    "colors = [ 'red', 'orange', 'yellow', 'blue', 'indigo', 'violet']"
   ]
  },
  {
   "cell_type": "markdown",
   "metadata": {},
   "source": [
    "## <span style='color:blue'> Finding the index where a particular item is located\n",
    "    \n",
    "Sometimes we want to know the index where a particular item is located, such as the maximum of a list. To do this use the method `.index()`.  For example if you want to know the index of \"yellow\" in the colors list above, then use `colors.index('yellow')`\n",
    "\n",
    "1. With the given list print out the index where 17 appears. Use a f-formatted print statement.\n",
    "1. With the given list print out the index where the minimum occurs.Use a f-formatted print statement.\n",
    "\n",
    " "
   ]
  },
  {
   "cell_type": "code",
   "execution_count": null,
   "metadata": {},
   "outputs": [],
   "source": [
    "list3 = [14, 21, 17, 2, 6]"
   ]
  },
  {
   "cell_type": "code",
   "execution_count": null,
   "metadata": {},
   "outputs": [],
   "source": []
  },
  {
   "cell_type": "markdown",
   "metadata": {},
   "source": [
    "## <span style='color:blue'> Creating a list iteratively\n",
    "    Many times we will be creating a list with a loop.  We will use the `append` method to do this but we must initialize our list first with the statement\n",
    "   ```my_list=[]```\n",
    "\n",
    "1. Initialize a list called prime\n",
    "1. Add the number 11,13 to the list and print out."
   ]
  },
  {
   "cell_type": "code",
   "execution_count": null,
   "metadata": {},
   "outputs": [],
   "source": []
  },
  {
   "cell_type": "code",
   "execution_count": null,
   "metadata": {},
   "outputs": [],
   "source": []
  }
 ],
 "metadata": {
  "kernelspec": {
   "display_name": "Python 3",
   "language": "python",
   "name": "python3"
  },
  "language_info": {
   "codemirror_mode": {
    "name": "ipython",
    "version": 3
   },
   "file_extension": ".py",
   "mimetype": "text/x-python",
   "name": "python",
   "nbconvert_exporter": "python",
   "pygments_lexer": "ipython3",
   "version": "3.8.5"
  }
 },
 "nbformat": 4,
 "nbformat_minor": 4
}
