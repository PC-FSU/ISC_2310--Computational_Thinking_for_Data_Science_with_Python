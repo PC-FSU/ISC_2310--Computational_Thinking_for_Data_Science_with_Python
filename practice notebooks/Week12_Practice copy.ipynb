{
 "cells": [
  {
   "cell_type": "markdown",
   "metadata": {},
   "source": [
    "# Practice - Week 12 - Logistic Regression for a Set of Admission Data\n",
    "\n",
    "In this notebook we want to use logistic regression as a 0/1 classifier on a synthetic set of data containing admission records. There are 100 data records with 3 columns.  The first column gives the student's score on an English exam (total possible is 65), the second the score on a math exam (total possible 95) and the third is the outcome.  The question we want to answer is \"Should a student with a given English and math score be admitted?\"  Thus if the outcome =1 (True) the student should be admitted and if outcome =0 (False) the student should not be admitted.\n",
    "\n",
    "The data is contained in the file admit_data.csv\n",
    "\n",
    "* Import libraries and Logistic Regression function\n",
    "* Create dataframe from file admit_data.csv\n",
    "* Check feature names; you will see that some have spaces in them so redefine names without spaces to make things easier later\n",
    "* Create new column in dataframe called \"Admit\" with \"yes\" or \"no\" values and then plot math vs english scores with color indicating whether they were admitted using your new column\n",
    "* Create target array  and 2-D data array  \n",
    "* Split data into training and test sets using 75-25 split\n",
    "* Create  Logistic Regression model  and fit the training data; determine percent of accuracy\n",
    "* Determine accuracy of model on test data\n",
    "* Now we want to add a column to dataframe for plotting which gives predicted outcome for ALL data; to do this we first predict the outcome for the entire set X, put this in an array and then add the column to dataframe. Do NOT create the model again and fit all data rather use the model you already created.\n",
    "* Add column to dataframe with values \"yes\" or \"no\" for this prediction\n",
    "* Plot (as you did before) math vs english with color indicated by actual \"Admit\" and another plot with predicted results.  \n",
    "* Compare\n",
    "\n",
    " "
   ]
  },
  {
   "cell_type": "code",
   "execution_count": 1,
   "metadata": {},
   "outputs": [],
   "source": [
    "import numpy as np\n",
    "import matplotlib.pyplot as plt\n",
    "from sklearn.linear_model import LogisticRegression\n",
    "from pandas import DataFrame, Series\n",
    "import seaborn as sns\n",
    "import pandas as pd"
   ]
  },
  {
   "cell_type": "code",
   "execution_count": 1,
   "metadata": {},
   "outputs": [],
   "source": [
    "# Load data into a dataframe & print\n",
    "#\n",
    " "
   ]
  },
  {
   "cell_type": "code",
   "execution_count": 2,
   "metadata": {},
   "outputs": [],
   "source": [
    "# Print out feature names to get exact names (some have spaces) using .columns\n",
    " \n"
   ]
  },
  {
   "cell_type": "code",
   "execution_count": 3,
   "metadata": {},
   "outputs": [],
   "source": [
    "# Get rid of spaces in feature names using df.columns = [ list of new names in quotes]\n",
    "#\n",
    " "
   ]
  },
  {
   "cell_type": "code",
   "execution_count": 4,
   "metadata": {},
   "outputs": [],
   "source": [
    "# Create new feature called 'Admit' using map or apply with values \"yes\" or \"no\"\n",
    "# For this case it's easier to use .map as we did for iris dataset\n",
    "#\n",
    " "
   ]
  },
  {
   "cell_type": "code",
   "execution_count": 5,
   "metadata": {},
   "outputs": [],
   "source": [
    "# Set background grid for Seaborn & plot Math vs English with color indicating whether the student was admitted\n",
    "# or not\n",
    "#\n",
    " "
   ]
  },
  {
   "cell_type": "code",
   "execution_count": 6,
   "metadata": {},
   "outputs": [],
   "source": [
    "# Create target 1D array and 2D data array  dimensioned 100 by 2\n",
    "#\n",
    "   # create target array\n",
    "#\n",
    "# Get NumPy array for english and math scores, stack them and take transpose\n",
    "# Remember that np.vstack takes 1 argument so put your arrays in ( ) and remember to use .T to transpose\n",
    " "
   ]
  },
  {
   "cell_type": "code",
   "execution_count": 7,
   "metadata": {},
   "outputs": [],
   "source": [
    "# split our data into a training set and a test set; we choose 75-25 split\n",
    "# We are splitting the entire data set  and target\n",
    "# \n",
    "# first import command fro scikit-learn\n",
    "from sklearn.model_selection import train_test_split\n",
    "#\n",
    "# split the data\n",
    "\n",
    " \n",
    "#\n",
    "# Print out length of each set\n",
    " \n",
    " "
   ]
  },
  {
   "cell_type": "code",
   "execution_count": 8,
   "metadata": {},
   "outputs": [],
   "source": [
    "# Now use  logistic regression on training set; see how well we do\n",
    "#  \n",
    "# \n",
    "# Create model\n",
    " \n",
    "#\n",
    "# Fit with training set\n",
    " \n",
    "#\n",
    "# Calculate training score using .score(X_train, y_train) & print out percent accuracy\n",
    "#\n",
    " \n",
    "#\n",
    " "
   ]
  },
  {
   "cell_type": "code",
   "execution_count": 9,
   "metadata": {},
   "outputs": [],
   "source": [
    "# Now see how well model does on test set using .score which requires 2 arguments\n",
    "# \n",
    " \n",
    " "
   ]
  },
  {
   "cell_type": "code",
   "execution_count": 10,
   "metadata": {},
   "outputs": [],
   "source": [
    "# We want to plot the prediction for each data point so first we add a column to dataframe with prediction\n",
    "# To do this, predict all data using .predict; print out score\n",
    "#\n",
    "# predict all data \n",
    "#\n",
    "# Add column to dataframe\n",
    " "
   ]
  },
  {
   "cell_type": "code",
   "execution_count": 11,
   "metadata": {},
   "outputs": [],
   "source": [
    "# Add column to dataframe for this prediction as we did before with .map\n",
    "#\n",
    " "
   ]
  },
  {
   "cell_type": "code",
   "execution_count": 12,
   "metadata": {},
   "outputs": [],
   "source": [
    "# Plot Math vs English with color indicating prediction & compare with scatterplot with actual outcome\n",
    " "
   ]
  },
  {
   "cell_type": "markdown",
   "metadata": {},
   "source": [
    "#### Comparison\n",
    "\n",
    " "
   ]
  },
  {
   "cell_type": "markdown",
   "metadata": {},
   "source": [
    " "
   ]
  }
 ],
 "metadata": {
  "kernelspec": {
   "display_name": "Python 3",
   "language": "python",
   "name": "python3"
  },
  "language_info": {
   "codemirror_mode": {
    "name": "ipython",
    "version": 3
   },
   "file_extension": ".py",
   "mimetype": "text/x-python",
   "name": "python",
   "nbconvert_exporter": "python",
   "pygments_lexer": "ipython3",
   "version": "3.8.5"
  }
 },
 "nbformat": 4,
 "nbformat_minor": 2
}
