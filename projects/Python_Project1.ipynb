{
 "cells": [
  {
   "cell_type": "markdown",
   "metadata": {
    "toc": true
   },
   "source": [
    "<h1>Table of Contents<span class=\"tocSkip\"></span></h1>\n",
    "<div class=\"toc\"><ul class=\"toc-item\"><li><span><a href=\"#Python-Project-1\" data-toc-modified-id=\"Python-Project-1-1\"><span class=\"toc-item-num\">1&nbsp;&nbsp;</span><span style=\"color: red\">Python Project 1</span></a></span><ul class=\"toc-item\"><li><span><a href=\"#-Part-1---Conditionals\" data-toc-modified-id=\"-Part-1---Conditionals-1.1\"><span class=\"toc-item-num\">1.1&nbsp;&nbsp;</span><span style=\"color: blue\"> Part 1 - Conditionals</span></a></span><ul class=\"toc-item\"><li><span><a href=\"#Question-1.\" data-toc-modified-id=\"Question-1.-1.1.1\"><span class=\"toc-item-num\">1.1.1&nbsp;&nbsp;</span>Question 1.</a></span></li><li><span><a href=\"#Question-2.\" data-toc-modified-id=\"Question-2.-1.1.2\"><span class=\"toc-item-num\">1.1.2&nbsp;&nbsp;</span>Question 2.</a></span></li></ul></li><li><span><a href=\"#-Part-2---Functions-&amp;-Loops\" data-toc-modified-id=\"-Part-2---Functions-&amp;-Loops-1.2\"><span class=\"toc-item-num\">1.2&nbsp;&nbsp;</span><span style=\"color: blue\"> Part 2 - Functions &amp; Loops</span></a></span><ul class=\"toc-item\"><li><span><a href=\"#Question-3.\" data-toc-modified-id=\"Question-3.-1.2.1\"><span class=\"toc-item-num\">1.2.1&nbsp;&nbsp;</span>Question 3.</a></span></li><li><span><a href=\"#Question-4.\" data-toc-modified-id=\"Question-4.-1.2.2\"><span class=\"toc-item-num\">1.2.2&nbsp;&nbsp;</span>Question 4.</a></span></li></ul></li><li><span><a href=\"#--Part-3---Plotting-with-matplotlib-&amp;-using-NumPy\" data-toc-modified-id=\"--Part-3---Plotting-with-matplotlib-&amp;-using-NumPy-1.3\"><span class=\"toc-item-num\">1.3&nbsp;&nbsp;</span><span style=\"color: blue\">  Part 3 - Plotting with matplotlib &amp; using NumPy</span></a></span><ul class=\"toc-item\"><li><span><a href=\"#Question-5.\" data-toc-modified-id=\"Question-5.-1.3.1\"><span class=\"toc-item-num\">1.3.1&nbsp;&nbsp;</span>Question 5.</a></span></li></ul></li><li><span><a href=\"#--Part-4---Putting-it-all-together--(Extra-credit---10-pts)\" data-toc-modified-id=\"--Part-4---Putting-it-all-together--(Extra-credit---10-pts)-1.4\"><span class=\"toc-item-num\">1.4&nbsp;&nbsp;</span><span style=\"color: blue\">  Part 4 - Putting it all together  (Extra credit - 10 pts)</span></a></span><ul class=\"toc-item\"><li><span><a href=\"#Question-6.\" data-toc-modified-id=\"Question-6.-1.4.1\"><span class=\"toc-item-num\">1.4.1&nbsp;&nbsp;</span>Question 6.</a></span></li></ul></li></ul></li></ul></div>"
   ]
  },
  {
   "cell_type": "markdown",
   "metadata": {},
   "source": [
    "# <span style='color:red'>Python Project 1\n",
    "    \n",
    "All questions are weighted equally. Total number of points is 50 with an extra credit (Part 4) worth 10 points."
   ]
  },
  {
   "cell_type": "markdown",
   "metadata": {},
   "source": [
    "## <span style='color:blue' > Part 1 - Conditionals\n",
    "\n",
    "We use conditionals to make decisions in our code.  Recall the syntax for the 3 different conditional constructs.\n",
    "\n",
    "- <span style='color:blue'>Construct 1 - to execute a block of code if the condition is true and do nothing if it is false.\n",
    "\n",
    "```python\n",
    "   if ( test condition  ) :  \n",
    "         statements to execute\n",
    "```\n",
    "- <span style='color:blue'>Construct 2 - to execute a block of code if the condition is true and another block if it is false.\n",
    "    \n",
    "```python\n",
    "    if ( condition ) :\n",
    "        execute some code\n",
    "    else :\n",
    "        execute some other code\n",
    "```\n",
    " \n",
    "- <span style='color:blue'>Construct 3 - to have multiple ```elif``` statements but the last conditional may be an ```else``` statement.  Here is an example with 4 branches.\n",
    "    ```python\n",
    "    if ( condition 1) :\n",
    "        first group of statements to execute\n",
    "    elif (condition 2) :\n",
    "        second group of statements to execute\n",
    "    elif (condition 3) :\n",
    "        third group of statements to execute\n",
    "    else : (we do not need a condition here because it is only executed if all previous conditions are not satisfied)\n",
    "```\n",
    "\n",
    " "
   ]
  },
  {
   "cell_type": "markdown",
   "metadata": {},
   "source": [
    "### Question 1.\n",
    "First input the lists x and y given below  which are the values defining the sides of two different rectangles.  So the first rectangle has sides given by the first element of list x and  the first element of list y; similarly for the second rectangle.  Calculate the area of the first rectangle and print out.  Then write a conditional which tests to see if the area is greater than 25.  If the area is greater than 25, use a formatted print statement to print out the fact that the area is >25 and the values of the sides.  If the area is <= 25, print out an appropriate statement along with values of x, y, and area. There are two rectangles so you could do a loop but here I just want you to access the correct element from the list (recall that this is done using square brackets). The easiest way is to just cut, paste and modify your code for the first rectangle.  I have provided a skeleton code.\n",
    "    "
   ]
  },
  {
   "cell_type": "code",
   "execution_count": 2,
   "metadata": {},
   "outputs": [
    {
     "name": "stdout",
     "output_type": "stream",
     "text": [
      "Output for first rectangle with sides x = 2 and y = 5\n"
     ]
    }
   ],
   "source": [
    "x=[2,4];  y= [5, 8]\n",
    "\n",
    "# first rectangle\n",
    "print (f\"Output for first rectangle with sides x = {x[0]} and y = {y[0]}\")\n",
    "area =   \n",
    "#\n",
    "# Add conditional block with print statements\n",
    " "
   ]
  },
  {
   "cell_type": "code",
   "execution_count": 3,
   "metadata": {},
   "outputs": [],
   "source": [
    "# Repeat results for second rectangle\n",
    "#  \n",
    " "
   ]
  },
  {
   "cell_type": "markdown",
   "metadata": {},
   "source": [
    "### Question 2.\n",
    "Write a conditional to test if a number x is\n",
    " -  negative\n",
    " -  nonnegative and less than 10\n",
    " -  10 or greater but less than or equal to 25\n",
    " -  greater than 25\n",
    " -  if x is greater than 25 print this out and then check to see if it is even or odd (Hint: put a conditional inside another conditional and use the modulo operator which is accessed using percent sign; for example 4 % 2 gives 0 and so 4 is even)\n",
    " \n",
    "Add formatted print statements for each condition giving the value of x and\n",
    "its range (for example, x is greater than 7 but less than 20) and run your code for x=-3, 7, 21, 45 and 88.  For simplicity, when you use a different value for x just paste your code in the next cell."
   ]
  },
  {
   "cell_type": "code",
   "execution_count": 4,
   "metadata": {},
   "outputs": [],
   "source": [
    "x = -3\n",
    "# add conditional block\n",
    "if ( add condition ) :\n",
    "    print (f\"x = {x}\")\n",
    "    print ( f\"x is negative\")\n",
    "# add remaining branches of conditional\n",
    " \n"
   ]
  },
  {
   "cell_type": "code",
   "execution_count": 5,
   "metadata": {},
   "outputs": [],
   "source": [
    "x = 7\n",
    " \n",
    "        "
   ]
  },
  {
   "cell_type": "code",
   "execution_count": 6,
   "metadata": {},
   "outputs": [],
   "source": [
    "x = 21\n",
    " "
   ]
  },
  {
   "cell_type": "code",
   "execution_count": 7,
   "metadata": {},
   "outputs": [],
   "source": [
    "x = 45\n",
    " "
   ]
  },
  {
   "cell_type": "code",
   "execution_count": 8,
   "metadata": {},
   "outputs": [],
   "source": [
    "x = 88\n",
    " "
   ]
  },
  {
   "cell_type": "markdown",
   "metadata": {},
   "source": [
    "## <span style='color:blue' > Part 2 - Functions & Loops\n",
    "    \n",
    "We want to break our codes into blocks of code which can be used in different parts of the program.  To do this we use Python functions.  The syntax is\n",
    "    \n",
    "```python\n",
    "  def function_name (optional arguments separated by commas) :\n",
    "    statements\n",
    "    return (items to return to main program, if any )\n",
    "``` \n",
    "Remember the colon (:) after the first line; all remaining statements must be indented. \n",
    "    \n",
    "To call the function you just need the function name with the values for your inputs in the same order than they are listed in the definition of the function.\n",
    "\n",
    "We use ```for``` loops to perform the same block of code multiple times with different variable values. Typically we either loop over elements in a list or a range of values.  The syntax is review below.\n",
    "\n",
    "- <span style='color:blue'>for loop over a list \n",
    "\n",
    "```python\n",
    "   my_list = [ ]  # define list\n",
    "   for a in my_list :  \n",
    "         statements to execute\n",
    "``` \n",
    "\n",
    "- <span style='color:blue'>for loop over a range of values\n",
    "\n",
    "```python\n",
    "   for i in range ( m,n,d ):  \n",
    "         statements to execute\n",
    "``` \n",
    "Here i takes on the starting value i=m and ends with i = n-1 with an increment of d.  If the increment is omitted then the default value is 1.\n",
    " "
   ]
  },
  {
   "cell_type": "markdown",
   "metadata": {},
   "source": [
    "### Question 3.\n",
    "Write a function to calculate the sum of the first n positive integers starting with 1; the only input should be n and it should return the sum.   Test your function with n=1000 and print out result using a formatted print statement.  There is a formula for calculating this sum so check your answer with the  formula:  n(n+1) / 2.    \n",
    "Hints:  \n",
    "- don't name your variable for the sum as ```sum``` because Python uses this  name. \n",
    "- don't forget to initialize your sum to zero before the loop.\n",
    "- remember that in the loop ```for i in range(1,5)``` ```i``` takes on the values 1,2,3, 4, but NOT 5"
   ]
  },
  {
   "cell_type": "code",
   "execution_count": 10,
   "metadata": {},
   "outputs": [
    {
     "name": "stdout",
     "output_type": "stream",
     "text": [
      "result using formula is 500500.0\n"
     ]
    }
   ],
   "source": [
    "def sum_integers (add inputs ):\n",
    "    \n",
    "    return (add variable to return)\n",
    "#     \n",
    "n = 1000\n",
    " \n",
    "print (f\"result using formula is {n * (n+1) /2}\")"
   ]
  },
  {
   "cell_type": "markdown",
   "metadata": {},
   "source": [
    "### Question 4.  \n",
    "We are given the two lists\n",
    "```\n",
    "horse_breed=['arabian','thoroughbred','quarter horse']\n",
    "color=['gray', 'chestnut','bay']\n",
    "```\n",
    "Use a nested for loop to print out each combination of horse color & breed.  For example, print out \"gray arabian\",  etc.  There should be 9 combinations of color and breed."
   ]
  },
  {
   "cell_type": "code",
   "execution_count": 11,
   "metadata": {},
   "outputs": [],
   "source": [
    "horse_breed=['arabian','thoroughbred','quarter horse']\n",
    "color=['gray', 'chestnut','bay']\n",
    " \n",
    " "
   ]
  },
  {
   "cell_type": "markdown",
   "metadata": {},
   "source": [
    "## <span style='color:blue' >  Part 3 - Plotting with matplotlib & using NumPy\n",
    "\n",
    "Recall that to import a library using an alias we use the syntax\n",
    "```python\n",
    "    import library_name as alias\n",
    "```\n",
    "Typically we import NumPy with alias np and matplotlib.pyplot with alias plt.  Remember that to access a function in, for example,  the NumPy library you need to use the syntax ```np.function_name'''.   \n",
    "    \n",
    "For plotting syntax using matplotlib.plt check out the notebook entitled Plotting with the Python Library matplotlib.\n",
    "    \n",
    "    "
   ]
  },
  {
   "cell_type": "markdown",
   "metadata": {},
   "source": [
    "### Question 5. \n",
    "The natural logarithm and the exponential ($e^x$) are inverse functions.  This means that   y=$e^x$ if and only if ln y =x.  For example, ln 1 = 0 if and only if 1=$e^0$.  These functions are available in NumPy using ```np.exp(x), np.log(x)```.  Plot both functions on the same plot on the interval [0.01, 2]; add a title and a legend.  Use red for the exponential and green for the logarithm.  Add a title and legend. \n",
    " \n",
    "Hints:  \n",
    "\n",
    "-Check out the notebook entitled Plotting with the Python Library matplotlib where we plot the sin and cos on same plot. \n",
    "\n",
    "-You will need to use the NumPy function ```linspace``` to set up the points on the x-axis. "
   ]
  },
  {
   "cell_type": "code",
   "execution_count": 31,
   "metadata": {},
   "outputs": [],
   "source": [
    "# import libraries  Numpy  and matplotlib.pyplot using standard aliases \n",
    " "
   ]
  },
  {
   "cell_type": "code",
   "execution_count": 12,
   "metadata": {},
   "outputs": [],
   "source": [
    "# plot functions on same plot \n",
    " "
   ]
  },
  {
   "cell_type": "markdown",
   "metadata": {},
   "source": [
    "##  <span style='color:blue' >  Part 4 - Putting it all together  (Extra credit - 10 pts)\n",
    "\n",
    " "
   ]
  },
  {
   "cell_type": "markdown",
   "metadata": {},
   "source": [
    "### Question 6.  \n",
    "There are many famous sequences in mathematics.  One of these is a sequence called the Catalan numbers (named after a Belgian mathematician) which occur in some counting problems.  The first few terms in the sequence are\n",
    "     1, 1, 2, 5, 14, 42, 132, 429, 1430, 4862\n",
    "     \n",
    "There is a formula for calculating the terms in the sequence given by\n",
    "\n",
    "$$ \\frac{(2n)!} {(n!)(n+1)!} \\quad \\mbox{for $n=0,1,2,3, \\ldots$}$$\n",
    "       \n",
    "Recall that, for example $$5!= 5 \\times 4 \\times 3 \\times 2 \\times 1=120$$  and 0! is defined as 1.\n",
    "\n",
    "Your objective is to create a Python list containing the first 8 terms in the sequence (starting at n=0 and ending at n=7) and then plot them where on the x-axis we plot n and on the y-axis we plot the corresponding Catalan number.\n",
    "\n",
    "-  First write a function that computes n!; remember that when n=0, n!=1 so you will need a conditional to test if n = 0.  Test the function before proceeding to verify it is working.\n",
    "-  Next write a loop to create a list containing the desired Catalan numbers; for clarity, assign a variable name to each of the three terms in the formula (n!, (2n)! and (n+1)!  ).  For plotting purposes you may want to also create a list of the values of n used to generate the Catalan numbers.\n",
    "-  Finally plot the numbers using a red triangle to indicate each point; on the x-axis is n and the y-axis is the Catalan number.  Add a title for your plot and labels for the x and y axes."
   ]
  },
  {
   "cell_type": "code",
   "execution_count": 13,
   "metadata": {},
   "outputs": [],
   "source": [
    "# Define function to calculate n!\n",
    " "
   ]
  },
  {
   "cell_type": "code",
   "execution_count": 14,
   "metadata": {},
   "outputs": [],
   "source": [
    "# Create a list of Catalan numbers using a for loop and the function you created to compute the factorial\n",
    "n=8\n",
    " "
   ]
  },
  {
   "cell_type": "code",
   "execution_count": 15,
   "metadata": {},
   "outputs": [],
   "source": [
    "# Plot\n",
    " "
   ]
  },
  {
   "cell_type": "code",
   "execution_count": null,
   "metadata": {},
   "outputs": [],
   "source": []
  }
 ],
 "metadata": {
  "kernelspec": {
   "display_name": "Python 3",
   "language": "python",
   "name": "python3"
  },
  "language_info": {
   "codemirror_mode": {
    "name": "ipython",
    "version": 3
   },
   "file_extension": ".py",
   "mimetype": "text/x-python",
   "name": "python",
   "nbconvert_exporter": "python",
   "pygments_lexer": "ipython3",
   "version": "3.6.7"
  },
  "toc": {
   "base_numbering": 1,
   "nav_menu": {},
   "number_sections": true,
   "sideBar": true,
   "skip_h1_title": false,
   "title_cell": "Table of Contents",
   "title_sidebar": "Contents",
   "toc_cell": true,
   "toc_position": {},
   "toc_section_display": true,
   "toc_window_display": true
  }
 },
 "nbformat": 4,
 "nbformat_minor": 2
}
