{
 "cells": [
  {
   "cell_type": "markdown",
   "metadata": {},
   "source": [
    "# Python Project 5 - K-Means Clustering \n",
    "\n",
    "In this project we want to   explore a dataset which contains information on breakfast cereals. We are only going to consider the manufacturers, cereal ratings, sugar  and carbohydrate levels.  Some of the values in sugars and carbohydrate features have invalid data which we must address.\n",
    "\n",
    "We want to answer the following questions.\n",
    "\n",
    " 1. What cereal manufacturers have the most/least varieties?\n",
    " 1. What cereal  has the highest rating?\n",
    " 1. Investigate sugar levels in cereals\n",
    "   * Does each manufacturer provide cereals equally among the sugar levels? \n",
    "   * How are the cereals clustered by sugar levels (low, medium, high)\n",
    "   * What are the cereals which have the highest sugar level? lowest sugar levels?\n",
    "   * How does your favorite breakfast cereal rank?\n",
    " 1. Investigate carbohydrate levels\n",
    "   * Cluster cereals in low, medium and high level of carbs\n",
    "   * What cereals are low sugar and low carbs?\n",
    "   * What cereals are high sugar and high carbs?\n",
    " \n",
    "\n",
    "Steps:\n",
    "* Input libraries and K-Means model from scikit-learn\n",
    "* Create dataframe and print out a few lines\n",
    "* Drop all features in dataframe except those we are using: Name, Manufacturer, Sugars and Carbohydrates, and Rating; alternately you can create a new dataframe with just the features you want\n",
    "* Check to see if there are any NaN values in sugars or carbohydrates features\n",
    "* Check to see if there are any invalid values (that is values <0) in sugars or carbohydrates features; if there are 2 or less cereals with these invalid values drop the cereal(s) from dataframe; otherwise replace negative values with 0.\n",
    "* Plot number of cereals for each manufacturer; if any manufacturer has only 1 cereal, drop that data instance.  Which manufacturer has the most varieties of cereals.\n",
    "* In dataframe the manufacturer is listed by a single letter; for plotting purposes add a column giving the actual name and delete feature 'mfr'\n",
    "* Use a plot to determine which manufacturer has cereals with the highest ratings.  \n",
    "* What cereal has the highest rating?\n",
    "* Plot sugars levels vs manufacturer and determine which brand has lowest sugar levels.\n",
    "* Cluster data using K-Means and the sugars feature with clusters low, middle and high sugar levels; print out cluster centroids; add cluster as feature in dataframe.\n",
    "* Determine which cluster is associated with low, mid or high sugar levels; add feature giving sugar level corresponding to cluster\n",
    "* Create a plot to show how cereals are distributed among sugar levels; what cereals have highest sugar levels? lowest sugar levels?\n",
    "* Repeat the steps you did for investigating sugar levels using carbohydrate levels.\n",
    "* Print out the cereals that are low sugars and low carbohydrates.\n",
    "* Print out the cereals that are low sugars and high carbohydrates."
   ]
  },
  {
   "cell_type": "markdown",
   "metadata": {},
   "source": [
    "## Data Set Description\n",
    "\n",
    "This dataset is contained in the file `cereal.csv'\n",
    "\n",
    "This dataset contains information on 77 different breakfast cereals.  The features are\n",
    "\n",
    "1. Cereal Name\n",
    "1. Manufacturer\n",
    "  *  A -> American Home Food Products\n",
    "  *  G -> General Mills\n",
    "  *  K -> Kelloggs\n",
    "  *  N -> Nabisco\n",
    "  *  P -> Post\n",
    "  *  Q -> Quaker Oats\n",
    "  *  R -> Ralston Purina\n",
    "1. Type (C -> Cold, H -> Hot )\n",
    "1. Calories (per serving)\n",
    "1. Protein (in grams)\n",
    "1. Fat (in grams)\n",
    "1. Sodium (in milligrams)\n",
    "1. Fiber (in grams of dietary fiber)\n",
    "1. Carbo (grams of complex carbohydrates)\n",
    "1. Sugars (in grams)\n",
    "1. Potass (milligrams of potassium)\n",
    "1. Vitamins (possible values are 0, 25 or 100 indicating percent of FDA recommended vitamins and minerals)\n",
    "1. Shelf ( display shelf with possible values 1, 2, or 3 counting from floor)\n",
    "1. Weight (weight of one serving in ounces)\n",
    "1. Cups (number of cups in one serving)\n",
    "1. Rating (Consumer ratings of cereal from 0 to 100)"
   ]
  },
  {
   "cell_type": "code",
   "execution_count": 1,
   "metadata": {},
   "outputs": [],
   "source": [
    "# import libraries  and K-Means function \n",
    " \n"
   ]
  },
  {
   "cell_type": "code",
   "execution_count": 1,
   "metadata": {},
   "outputs": [],
   "source": [
    "# Create dataframe for data\n",
    " "
   ]
  },
  {
   "cell_type": "code",
   "execution_count": 2,
   "metadata": {},
   "outputs": [],
   "source": [
    "# drop features we aren't using or create a new dataframe with only the features we want\n",
    " "
   ]
  },
  {
   "cell_type": "code",
   "execution_count": 3,
   "metadata": {},
   "outputs": [],
   "source": [
    "# Check to see if any instances have NaN for entries using .info\n",
    " "
   ]
  },
  {
   "cell_type": "code",
   "execution_count": 4,
   "metadata": {},
   "outputs": [],
   "source": [
    " # Check to see if any cereals have negative values for sugars or carbohydrates; if 2 or less cereals, drop those\n",
    "# data instances; otherwise replace negative values with 0\n",
    " "
   ]
  },
  {
   "cell_type": "code",
   "execution_count": 5,
   "metadata": {},
   "outputs": [],
   "source": [
    "# Address negative values"
   ]
  },
  {
   "cell_type": "code",
   "execution_count": 69,
   "metadata": {},
   "outputs": [],
   "source": [
    "# set background grid for plots\n",
    "sns.set_style( 'whitegrid')"
   ]
  },
  {
   "cell_type": "code",
   "execution_count": 6,
   "metadata": {},
   "outputs": [],
   "source": [
    "# Plot number of products per manufacturer \n",
    " "
   ]
  },
  {
   "cell_type": "code",
   "execution_count": 76,
   "metadata": {},
   "outputs": [],
   "source": [
    "# There is only one cereal from American Home Foods Company so we drop that data sample\n",
    "#\n",
    "# Type df[df.mfr == 'A']  and it will give you all data from this manufacturer.\n",
    "# Make sure you set df = drop command; use command to make sure it was deleted\n",
    "#\n",
    " \n",
    "\n"
   ]
  },
  {
   "cell_type": "code",
   "execution_count": 7,
   "metadata": {},
   "outputs": [],
   "source": [
    "\n",
    "# For plots we would like the name of manufacturer instead of just \"N\" or \"Q\"\n",
    "# Use .map or .apply\n",
    "#\n",
    "# Then drop 'mfr' column\n",
    "#\n",
    " "
   ]
  },
  {
   "cell_type": "code",
   "execution_count": 9,
   "metadata": {},
   "outputs": [],
   "source": [
    "# Plot to see which manufacturer  has highest rated cereals\n",
    " "
   ]
  },
  {
   "cell_type": "code",
   "execution_count": 10,
   "metadata": {},
   "outputs": [],
   "source": [
    "# Which cereal is rated highest?\n",
    " "
   ]
  },
  {
   "cell_type": "code",
   "execution_count": 11,
   "metadata": {},
   "outputs": [],
   "source": [
    "# Look at sugars per brand by plotting\n",
    " "
   ]
  },
  {
   "cell_type": "markdown",
   "metadata": {},
   "source": [
    "Cluster by sugars into highest, middle and lowest levels; random initial guess"
   ]
  },
  {
   "cell_type": "code",
   "execution_count": 81,
   "metadata": {},
   "outputs": [],
   "source": [
    "# Get data for clustering\n",
    " "
   ]
  },
  {
   "cell_type": "code",
   "execution_count": 12,
   "metadata": {},
   "outputs": [],
   "source": [
    "# Form model, fit data and print out cluster centers"
   ]
  },
  {
   "cell_type": "code",
   "execution_count": 13,
   "metadata": {},
   "outputs": [],
   "source": [
    "# Add column to dataframe for this clusters, say sugars_clusters\n",
    " "
   ]
  },
  {
   "cell_type": "code",
   "execution_count": 14,
   "metadata": {},
   "outputs": [],
   "source": [
    "# Plot clusters\n",
    " "
   ]
  },
  {
   "cell_type": "code",
   "execution_count": 15,
   "metadata": {},
   "outputs": [],
   "source": [
    "# Determine which cluster number corresponds to lowest, middle and highest level and create a new\n",
    "# column in dataframe using .map\n",
    "#\n",
    " \n",
    "#\n",
    " "
   ]
  },
  {
   "cell_type": "code",
   "execution_count": 16,
   "metadata": {},
   "outputs": [],
   "source": [
    "# How are cereals distributed among the 3 levels?\n",
    " "
   ]
  },
  {
   "cell_type": "code",
   "execution_count": 17,
   "metadata": {},
   "outputs": [],
   "source": [
    "# Which cereals have the highest sugar levels\n",
    "#\n",
    " "
   ]
  },
  {
   "cell_type": "code",
   "execution_count": 18,
   "metadata": {},
   "outputs": [],
   "source": [
    "# Which cereals have the lowest sugar levels\n",
    "#\n",
    " "
   ]
  },
  {
   "cell_type": "code",
   "execution_count": 19,
   "metadata": {},
   "outputs": [],
   "source": [
    "# If you eat a particular cereal like Apple Jacks, Froot Loops, etc. what cluster is it in?\n",
    "my_cereal = 'Apple Jacks'\n",
    "print (f\"The data instance and  sugar cluster for {my_cereal}  is \", \\\n",
    "       df[df.name == my_cereal].sugars_clusters )\n",
    " "
   ]
  },
  {
   "cell_type": "markdown",
   "metadata": {},
   "source": [
    "### Repeat calculations and plots for carbohydrates instead of sugars\n",
    " "
   ]
  },
  {
   "cell_type": "code",
   "execution_count": null,
   "metadata": {},
   "outputs": [],
   "source": [
    " "
   ]
  },
  {
   "cell_type": "code",
   "execution_count": 21,
   "metadata": {},
   "outputs": [],
   "source": [
    " \n",
    " "
   ]
  },
  {
   "cell_type": "code",
   "execution_count": null,
   "metadata": {},
   "outputs": [],
   "source": [
    " "
   ]
  },
  {
   "cell_type": "markdown",
   "metadata": {},
   "source": [
    "\n",
    "\n",
    "What cereals are high carbs and low sugar?  What are low carbs and low sugar?"
   ]
  },
  {
   "cell_type": "code",
   "execution_count": null,
   "metadata": {},
   "outputs": [],
   "source": [
    " "
   ]
  },
  {
   "cell_type": "code",
   "execution_count": 22,
   "metadata": {},
   "outputs": [],
   "source": [
    " \n",
    "\n",
    " "
   ]
  },
  {
   "cell_type": "code",
   "execution_count": null,
   "metadata": {},
   "outputs": [],
   "source": []
  }
 ],
 "metadata": {
  "kernelspec": {
   "display_name": "Python 3",
   "language": "python",
   "name": "python3"
  },
  "language_info": {
   "codemirror_mode": {
    "name": "ipython",
    "version": 3
   },
   "file_extension": ".py",
   "mimetype": "text/x-python",
   "name": "python",
   "nbconvert_exporter": "python",
   "pygments_lexer": "ipython3",
   "version": "3.8.5"
  }
 },
 "nbformat": 4,
 "nbformat_minor": 2
}
