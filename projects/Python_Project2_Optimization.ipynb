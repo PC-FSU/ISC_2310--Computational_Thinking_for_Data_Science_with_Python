{
 "cells": [
  {
   "cell_type": "markdown",
   "metadata": {},
   "source": [
    "#  <span style='color:red' > Python Project # 2 - Greedy Algorithm for a Scheduling Problem"
   ]
  },
  {
   "cell_type": "markdown",
   "metadata": {},
   "source": [
    "In this project we want to use the Greedy algorithm to solve a scheduling problem.  Assume that you have a summer internship where you work 8 hours per day.  Your supervisor has given you a list of 7 tasks to complete and has prioritized these by ranking them by 1 through 10, where 10 is the most important task.  You look at this list of tasks and estimate the time (in minutes) that you need to complete each one.  Unfortunately you can't complete all 7 tasks in 8 hours so the goal is to determine which tasks to do.\n",
    "\n",
    "We first assume that we use a Greedy Algorithm where we choose the task which has the highest priority to complete first.  When that is done we choose the task to do which has the next highest priority that can be completed in the remaining time, etc.  Your goal is to determine which tasks you can complete in the first 8 hour day.\n",
    "\n",
    "What is our strategy for writing this code to determine which tasks to do on the first day?\n",
    "\n",
    "Basically, this is just like the Greedy algorithm for the Knapsack problem where instead of picking the item with the highest value not already in the Knapsack (and which fits), we pick the task which has the highest priority and which is not already completed and which can be done in the remaining time.  \n",
    "\n",
    "We will construct our program in a step-by-step mammner."
   ]
  },
  {
   "cell_type": "markdown",
   "metadata": {},
   "source": [
    "### Step 1. Input the problem specific data. \n",
    "\n",
    "- I have defined the two task lists; one is for the priority of each task and the other is for the time in minutes that each task  takes.\n",
    "- Next define the number of tasks.  Do not use a number (like 7)   but rather use the __len()__ command.\n",
    "- Next define the amount of time  in minutes  that is available to complete the tasks on the first day.\n",
    "- Output the information in a table-like format; later we will learn how to do this to make it look nice but for now just print out the task numbers from 1 to 7, their priority and the time to complete the task.  I have added the commands to print the title and one line of the table.  To print all the tasks you need to put this statement inside  a __for__ loop and modify it appropriately. \n",
    "\n",
    " "
   ]
  },
  {
   "cell_type": "code",
   "execution_count": 2,
   "metadata": {},
   "outputs": [
    {
     "name": "stdout",
     "output_type": "stream",
     "text": [
      "TASK      PRIORITY      TIME TO COMPLETE\n",
      "  1          2              30\n"
     ]
    }
   ],
   "source": [
    "\n",
    "priority = [ 2, 6, 1, 7, 10, 8, 5]\n",
    "time = [30,200,20,70,120,60, 150]\n",
    "#\n",
    "# define number of tasks:     don't hardwire this but rather use the len() command\n",
    "n_tasks = \n",
    "max_time =  \n",
    "print ( f\"TASK      PRIORITY      TIME TO COMPLETE\")\n",
    "# you need to add an appropriate for loop here and modify the next print statement so that you can print out all tasks\n",
    "print (f\"  {1}          {priority[0]}              {time[0]}\")"
   ]
  },
  {
   "cell_type": "markdown",
   "metadata": {},
   "source": [
    "### Step 2.  Write code to test finding the maximum value in a list and the index where it occurs.\n",
    "\n",
    "To do this you must use the __max()__ function on a given list and then use the list method __.index ()__ to find the index of the location in the list where this occurs.  Using a formatted print statement output  your maximum value and the index where it occurs in the list.\n",
    "\n",
    "I have provided a list to check your answer.  Clearly the maximum value should be 11 which is the 5th item in the list and has an index of 4 (because the first item in the list has index = 0)"
   ]
  },
  {
   "cell_type": "code",
   "execution_count": 2,
   "metadata": {},
   "outputs": [],
   "source": [
    "test_list = [ 4, 5, 3, 7, 11, 2]\n",
    "max_value =   # use function max() to find maximum value in list\n",
    "max_index =   # use method list.index () to find the index where this max occurs\n",
    "print   # print out results in formatted statement\n"
   ]
  },
  {
   "cell_type": "markdown",
   "metadata": {},
   "source": [
    "### Step 3.  Add statements to Step 2 to find the corresponding time that it takes for the task you found there.  Print it out using a formatted statement.\n",
    "\n",
    "I have added a sample time list for the sample list above to use to verify that your code is working.\n",
    "\n",
    "This is easy to do because you already have the index where the maximum occurs so just print out the item in the other list which occurs at this index.\n",
    "\n",
    "As before the maximum value should be 11 which is the 5th item in the list and has an index of 4  and this tasks takes 90 minutes."
   ]
  },
  {
   "cell_type": "code",
   "execution_count": 4,
   "metadata": {},
   "outputs": [],
   "source": [
    "test_list = [ 4,  5, 3, 7, 11, 2]\n",
    "time_list = [30, 45, 20, 120, 90, 70 ]\n",
    "max_value =  \n",
    "max_index =  \n",
    "task_time =    # input the time it takes to complete this task\n",
    "print   # print out values as in Step #2 plus the time it takes to complete task\n"
   ]
  },
  {
   "cell_type": "markdown",
   "metadata": {},
   "source": [
    "### Step 4.   Conditional statement to test if the task chosen can be completed in the remaining time.\n",
    "\n",
    "- I have entered random values (not for your specific problem) for the maximum time available  and the amount of time already used.\n",
    "- To your statements in Step 3  add a conditional statement to check to see if the task can be done in the remaining time.  If it can, then update the time_used. \n",
    "- Print out the task added (not its index but the number of the task so for this test problem it is 5) along with the current time used which is updated to 270; \n",
    " \n",
    " \n"
   ]
  },
  {
   "cell_type": "code",
   "execution_count": 5,
   "metadata": {},
   "outputs": [],
   "source": [
    "max_time = 6 * 60  # this is not the maximum time available for your example but rather for testing\n",
    "time_used = 3 * 60 \n",
    "#\n",
    "# Following 6 statements are from Step 3\n",
    "test_list = [ 4, 5, 3, 7, 11, 2]\n",
    "time_list = [30, 45, 20, 120, 90, 70 ]\n",
    "max_value =  \n",
    "max_index =  \n",
    "task_time =  \n",
    "print  \n",
    "#\n",
    "# Add conditional to see if this task can be completed in the allotted time\n",
    "if (  ) :\n",
    "    # if conditional is true, i.e., task can be completed update time_used\n",
    "    # add print statements\n"
   ]
  },
  {
   "cell_type": "markdown",
   "metadata": {},
   "source": [
    "### Step 5.  Write the code for a Greedy algorithm where the \"best\" criteria is the item with the highest priority.  To do this, input your problem specific data from Step 1 and add the appropriate lines of code from Step  4.  Add comments to your code with a \"#\"\n",
    "\n",
    "- First input problem specific data from Step 1 (just cut and paste)\n",
    "- As discussed in the Knapsack Problem this requires a loop over all the tasks.\n",
    "- Be sure to thing about what quantity needs to be initialized (i.e., set to 0) BEFORE the beginning of the loop\n",
    "- In the loop you need to find the index where the maximum occurs and then find the corresponding time which you have already done in Step 3/4.   Then you need to add the conditional statement from Step 4 to see if there is enough time remaining to complete this task.  If so, print out results as in Step 4.\n",
    "- In order to make sure that each time through the loop the code does not find the same task (i.e., the same maximum priority) we see the priority to 0 after we have checked this item to see if it can be done or not.\n",
    "- I have added comments to remind you of what statements to add where; that is, for how the code is structured.\n"
   ]
  },
  {
   "cell_type": "code",
   "execution_count": 7,
   "metadata": {},
   "outputs": [
    {
     "name": "stdout",
     "output_type": "stream",
     "text": [
      "TASK      PRIORITY      TIME TO COMPLETE\n"
     ]
    }
   ],
   "source": [
    "# Input problem specific data and print it out from Step 1\n",
    "priority = [ 2, 6, 1, 7, 10, 8, 5]\n",
    "time = [30,200,20,70,120,60, 150]\n",
    "n_tasks =  \n",
    "max_time = \n",
    "print ( f\"TASK      PRIORITY      TIME TO COMPLETE\")\n",
    "#\n",
    "# Initialize any variables before loop\n",
    " \n",
    "# \n",
    "# add for loop to go through all tasks\n",
    "#\n",
    "for   :\n",
    "#\n",
    "# find highest priority left and task number it corresponds to from Step 3/4\n",
    "# \n",
    "# zero out this entry in the priority list so you won't find it again\n",
    "#\n",
    "# add conditional to check to see if task can be completed as in Step 4       \n",
    "#          \n",
    "# Print out the total time used for all tasks in day 1\n",
    " "
   ]
  },
  {
   "cell_type": "markdown",
   "metadata": {},
   "source": [
    "### Step 6  Making your code more efficient\n",
    "\n",
    "- If the task is added and the time used = maximum time then there is no reason to go through the remaining items.  So we would add another conditional (inside the first conditional) and if it is true, then we break out of the loop using the command __break__"
   ]
  },
  {
   "cell_type": "code",
   "execution_count": null,
   "metadata": {},
   "outputs": [],
   "source": [
    "# Input problem specific data and print it out from Step 1\n",
    "priority = [ 2, 6, 1, 7, 10, 8, 5]\n",
    "time = [30,200,20,70,120,60, 150]\n",
    "n_tasks =  \n",
    "max_time = \n",
    "print ( f\"TASK      PRIORITY      TIME TO COMPLETE\")\n",
    "#\n",
    "# Initialize any variables before loop\n",
    " \n",
    "# \n",
    "# add for loop to go through all tasks\n",
    "#\n",
    "for   :\n",
    "#\n",
    "# find highest priority left and task number it corresponds to from Step 3/4\n",
    "# \n",
    "# zero out this entry in the priority list so you won't find it again\n",
    "#\n",
    "# add conditional to check to see if task can be completed as in Step 4  \n",
    "# if this conditional is satisfied then add another conditional to check if time_used = max_time; if so break out of loop\n",
    "#          \n",
    "# Print out the total time used for all tasks in day 1"
   ]
  },
  {
   "cell_type": "markdown",
   "metadata": {},
   "source": [
    "###  Step 7.  (Extra Credit)  Now modify your code to use a Greedy algorithm where you choose the \"best\" task to do based on the priority divided by the time; choose the next task to be completed to be the item which has  largest priority to time ratio."
   ]
  },
  {
   "cell_type": "code",
   "execution_count": 8,
   "metadata": {},
   "outputs": [],
   "source": [
    "# Input problem specific data \n",
    "old_priority = [ 2, 6, 1, 7, 10, 8, 5]\n",
    "time = [30,200,20,70,120,60, 150]\n",
    "# n_tasks =  \n",
    "#\n",
    "# Create new priority list containing ratios\n",
    "# \n",
    "priority = []  # initialize the list which contains the new priorities which are original priority divided by\n",
    "               # time it takes to complete this task\n",
    "# add for loop to create this list\n",
    "# use method .append() to  create elements of the new priority list\n",
    "#\n",
    "# Remainder of code should be the same; this is because we called the new list which contained the ratios the same as\n",
    "# before."
   ]
  },
  {
   "cell_type": "markdown",
   "metadata": {
    "collapsed": true
   },
   "source": [
    "Why do you get different answers for the two algorithms?\n",
    "\n",
    "Double click on this cell and type your answer here.\n",
    "\n",
    "Which strategy for the two Greedy algorithms allows you to complete the largest number of tasks in 8 hours?\n",
    "\n",
    "Type your answer here.  "
   ]
  }
 ],
 "metadata": {
  "kernelspec": {
   "display_name": "Python 3",
   "language": "python",
   "name": "python3"
  },
  "language_info": {
   "codemirror_mode": {
    "name": "ipython",
    "version": 3
   },
   "file_extension": ".py",
   "mimetype": "text/x-python",
   "name": "python",
   "nbconvert_exporter": "python",
   "pygments_lexer": "ipython3",
   "version": "3.8.5"
  }
 },
 "nbformat": 4,
 "nbformat_minor": 2
}
