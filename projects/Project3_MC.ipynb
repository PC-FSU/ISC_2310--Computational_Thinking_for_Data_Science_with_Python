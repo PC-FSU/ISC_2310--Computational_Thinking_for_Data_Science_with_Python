{
 "cells": [
  {
   "cell_type": "markdown",
   "metadata": {},
   "source": [
    "# Python Project 3 -  Using Monte Carlo to Simulate Random Processes"
   ]
  },
  {
   "cell_type": "markdown",
   "metadata": {},
   "source": [
    "This project has two parts.  You may choose to do either.  If you do both, then extra credit will be awarded.  Also you have the option to work with another person with this project.  In that case, only one code need be submitted.\n",
    "\n",
    "The first involves using MC to simulate a game of chance where we \"draw\" a ball out of a bin of 100 balls with each ball numbered from 1 to 100.  One goal is to determine the  average amount of money the player has remaining after playing a fixed number of times.  In addition, we want to determine the discrete expected value when we simulate playing and show that it is close to the theoretical expected value.\n",
    "\n",
    "The second involves using MC to estimate the amount of commission that a company expects to have to pay.  Here the sales rep's commission is based upon how close their actual sales are to their target sales.  We first want to simulate the sales for each rep and compute the total amount of commission.  Then we want to do this many times and average the total commissions from all the simulations.\n"
   ]
  },
  {
   "cell_type": "markdown",
   "metadata": {},
   "source": [
    "## Part I - Using Monte Carlo to simulate a game of chance\n",
    "\n",
    "Suppose we have a game where there are 100 balls  with numbers 1 through 100.  The rules of the game are simple.  If you draw a ball with a number 52, 53, ... , 100 then you win; otherwise the house wins.  We can easily compute the probability of winning:\n",
    "- Player has 49 out of 100 chances of winning so probability is 0.49\n",
    "- House has 51 out of 100 chances of winning so probability is 0.51\n",
    "Clearly the house has an edge which we can compute using the expected value.  If you bet \\\\$100 then the expected value is\n",
    "        \n",
    "        expected value = (100)(0.49) - (100)(0.51) = - 0.02(100) = -2\n",
    "     \n",
    "So with this bet, you should expect to lose \\\\$2 per game.\n",
    "\n",
    "The goal is to approximate your ending funds if you decide you are only going to play a certain number of games.  For example, suppose you are only going to play 5 times then we could simulate the game for 5 times.  However, this would only give us the remaining funds for one example of playing 5 games.  Instead we want to do this many times and average the result.\n",
    "\n",
    "__Assume that the starting funds are  10,000 dollars and we always wager 100 dollars per game.__\n",
    "\n",
    "We solve this problem in the following steps:\n",
    "\n",
    "- Step 0.  Import library and set seed\n",
    "- Step 1.  Define a function which returns True if the player wins and  False otherwise.\n",
    "- Step 2.  Define a function which simulates playing the game a given number of times; it uses the function in Step 1 and adjusts the funds available depending if the player wins or loses. Function returns the amount of funds remaining after playing the given number of times and the number of times the player wins/loses.\n",
    "- Step 3. Write code to call the function in Step 2 for 5 games.  Output the funds remaining after 5 games and number of wins/loses.\n",
    "- Step 4. Modify the code in Step 4 to do this simulation (of playing 5 games) 100 times.  Output the average of the funds remaining after 5 games and the probability of winning & losing; output the expected value for this simulation.\n",
    "\n",
    "The results you get in Step 4 do NOT match our theoretical expected value of losing  2 dolars per game.  You are asked to make modification(s) to your code in Step 4 so that your discrete expected value is close to the theoretical value.\n",
    "\n",
    " \n"
   ]
  },
  {
   "cell_type": "code",
   "execution_count": 1,
   "metadata": {},
   "outputs": [],
   "source": [
    "# import random library and set seed"
   ]
  },
  {
   "cell_type": "code",
   "execution_count": 1,
   "metadata": {},
   "outputs": [],
   "source": [
    "# Step 1.\n",
    "# Define a function which randomly draws a ball with an integer between 1 and 100 on it; \n",
    "# then returns True if Player\n",
    "# wins and returns False if House wins. \n",
    "# Add a print statement to function to print random integer and test out function\n",
    "# Add comment statements to function\n",
    "#\n",
    " "
   ]
  },
  {
   "cell_type": "code",
   "execution_count": 8,
   "metadata": {},
   "outputs": [],
   "source": [
    "# Step 2.\n",
    "# Create a function which simulates playing the game n_plays times; keep track of number of wins and losses\n",
    "\n",
    "#\n",
    " "
   ]
  },
  {
   "cell_type": "markdown",
   "metadata": {},
   "source": [
    "Step 3.  Now assume that we wager  100 dollars  per game, we start with  10,000 dollars.  Write code to call the function in Step 2 to simulate playing 5 games.  Print out the funds & number of wins and losses remaining after these 5 games."
   ]
  },
  {
   "cell_type": "code",
   "execution_count": null,
   "metadata": {},
   "outputs": [],
   "source": [
    " "
   ]
  },
  {
   "cell_type": "markdown",
   "metadata": {},
   "source": [
    "Step 4.  Now simulate playing 5 games  100 times and print out the average amount of funds remaining when you play 5 games.  Print out the discrete probability of winning or losing.\n",
    "As before the discrete probability of winning is just the total number of wins over all simulations divided by the total number of games simulated."
   ]
  },
  {
   "cell_type": "code",
   "execution_count": null,
   "metadata": {},
   "outputs": [],
   "source": [
    " "
   ]
  },
  {
   "cell_type": "markdown",
   "metadata": {},
   "source": [
    "Now this amount of losing over 8 dollars per game doesn't agree with our theoretical expected value of losing about 2 dollars per game.  What do we need to do to get a better approximation?  Modify the necessary statement(s) in your program and perform another simulation to get around losing 2 dollars per game."
   ]
  },
  {
   "cell_type": "code",
   "execution_count": null,
   "metadata": {},
   "outputs": [],
   "source": [
    " "
   ]
  },
  {
   "cell_type": "markdown",
   "metadata": {},
   "source": [
    "## Part II - Using Monte Carlo for a business application\n",
    "\n",
    "Suppose that you work at a company which employs sales people who receive a commission on their sales. \n",
    "\n",
    "The commission is just calculated from the formula\n",
    "\n",
    "     commission = actual sales *  commission rate\n",
    "    \n",
    "The commission rate is based upon how close the actual sales are to the target sales.  The rate schedule we use here is:\n",
    "\n",
    "    - actual sales between  0-90% of target sales => 2.00% commission rate\n",
    "    - actual sales between 91-99% of target sales  => 3.00% commission rate\n",
    "    - actual sales between >=100% of target sales   => 4.00% commission rate\n",
    " \n",
    "Suppose that your job is to inform the company's Finance Department how much money to budget for commissions. Assume the company has 5 sales people and the information for last year is summarized in the following table.  Further __assume that the Target Sales and number of sales people are the same for the coming year__."
   ]
  },
  {
   "cell_type": "markdown",
   "metadata": {},
   "source": [
    "  | Sales person |  Target Sales | Actual Sales|  Commission Rate| Commission|\n",
    "  | :---:        | :---:         | :---:       | :---:           | :---:     |\n",
    "  |   1          |  150,000      |   122,000   |     2%          |   2,440   |    \n",
    "  |   2          |   200,000     |   195,000   |     3%          |   5,850   |\n",
    "  |   3          |   95,000      |    82,000   |     2%          |    1,640  |\n",
    "  |   4          |  350,000      |    390,000  |      4%         |     15,600|\n",
    "  |  5           | 425,000       |     415,000 |       3%        |     12,450|\n",
    " \n",
    "                                                           Total Commission:     $37,980"
   ]
  },
  {
   "cell_type": "markdown",
   "metadata": {},
   "source": [
    "### Monte Carlo approach\n",
    "\n",
    "To use Monte Carlo we need to know what the random inputs will be. In this case, it is simply the amount of actual sales each person might make. So we have 5 sales reps so we need 5 random numbers. Once we have a random sales amount for each rep we use the table to compute the commission rate and then compute the total commission for each rep. We do this many, many times and then average the total commissions.\n",
    "\n",
    "Now when we estimate the sales for say rep 1 (target =  150,000 dollars) we might now want to pick a random integer between 0 and 150,000. However,the sales reps are good at what they do (based on their history) so they probably won't have very few sales. So for simplicity let's assume that no one has ever sold less than 85 percent of their target value. For simplicity, let's also assume that no one sells more than 110 percent of their target value. There is a more sophisticated way to do this by assuming a particular distribution (given by a pdf) but we will just take a uniform approach to generating the random numbers.\n",
    "This means that for each rep we need to generate a random number between:\n",
    "\n",
    "- sales rep # 1 (target  150,000)  range: 112,500 to  165,000 dollars\n",
    "- sales rep # 2 (target  200,000)  range: 150,000 to 220,000 dollars\n",
    "- sales rep # 3 (target 95,000)   range: 71,250 to  104,500 dollars\n",
    "- sales rep # 4 (target  350,000)  range: 262,500 to 385,000 dollars\n",
    "- sales rep # 5 (target  425,000)  range: 318,750 to  467,500\n",
    "\n",
    "These ranges are calculated by taking .85 times target sales to 1.1 times target sales. We will have Python generate these for us but for reference I added them here.\n",
    "First, we write a code to run a single simulation and then we can go back and modify it to run many simulations and average the commissions.\n",
    "Pseudo code for this problem looks like:\n",
    "   * for each of the n_sales reps:\n",
    "   * generate a random number between 0 and 1\n",
    "   * map this number into the desired interval (see above)\n",
    "   * determine the commission rate using conditions\n",
    "   * calculate the commission for this rep and add it to the total commission"
   ]
  },
  {
   "cell_type": "markdown",
   "metadata": {},
   "source": [
    "In order to write a code which predicts the total amount of commission, perform the following steps.\n",
    "\n",
    "1. Import libraries and set seed\n",
    "1. Input fixed values for this problem: target sales and number of sales representatives; low and high percentages for target sales\n",
    "1. Write code to generate a random amounto of sales for each rep and check with above values to make sure they are in the correct range; use a for loop; round answer to nearest cent \n",
    "1. Write code to perform a single simulation and give the total commission\n",
    "1. Add a loop to run many simulations and give the expected value, i.e., the average commission over all simulations"
   ]
  },
  {
   "cell_type": "code",
   "execution_count": 19,
   "metadata": {},
   "outputs": [],
   "source": [
    "# 1.  import random and set seed\n",
    " "
   ]
  },
  {
   "cell_type": "code",
   "execution_count": 22,
   "metadata": {},
   "outputs": [],
   "source": [
    "# 2.  Input target sales and number of sales persons for upcoming year; low and high\n",
    "# percentages of sales for generating random numbers\n",
    " "
   ]
  },
  {
   "cell_type": "code",
   "execution_count": 2,
   "metadata": {},
   "outputs": [],
   "source": [
    "# 3.  Generate a random sales amount for each rep and check that it is in the correct range \n",
    "# Use a for loop; round answer to nearest cent\n",
    "\n",
    " "
   ]
  },
  {
   "cell_type": "code",
   "execution_count": 4,
   "metadata": {},
   "outputs": [],
   "source": [
    "# 4. Add to your loop in # 3 to determine the  commission for each rep\n",
    "# (you need an if-elif-else construct to determine rate); keep a running tab of \n",
    "# the sum of all commissions\n",
    "# round all dollar amounts to nearest cent\n",
    "#\n",
    " "
   ]
  },
  {
   "cell_type": "code",
   "execution_count": 5,
   "metadata": {},
   "outputs": [],
   "source": [
    "# 5.  Add a loop around your code in # 4 to do 10,000 simulations\n",
    "# Only print out the average commission for all 10,000 simulations\n",
    "# Don't print out all the information from Step # 4 - it will be way too much so remove\n",
    "# or comment out those print statements\n",
    "#\n",
    " "
   ]
  },
  {
   "cell_type": "code",
   "execution_count": null,
   "metadata": {},
   "outputs": [],
   "source": []
  }
 ],
 "metadata": {
  "kernelspec": {
   "display_name": "Python 3",
   "language": "python",
   "name": "python3"
  },
  "language_info": {
   "codemirror_mode": {
    "name": "ipython",
    "version": 3
   },
   "file_extension": ".py",
   "mimetype": "text/x-python",
   "name": "python",
   "nbconvert_exporter": "python",
   "pygments_lexer": "ipython3",
   "version": "3.8.5"
  }
 },
 "nbformat": 4,
 "nbformat_minor": 2
}
