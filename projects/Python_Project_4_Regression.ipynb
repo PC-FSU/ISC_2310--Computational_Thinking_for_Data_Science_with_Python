{
 "cells": [
  {
   "cell_type": "markdown",
   "metadata": {},
   "source": [
    "# Python Project 4 - Polynomial Regression\n",
    "\n",
    " Are we getting taller?  There is no noticeable height change in humans from when record keeping started to the early 1800's but since that time the average height has been increasing. Today, on average, we are taller than our predecessors but these gains vary considerably from country to country.   Researchers found that today Dutch men have the highest average heights at 182.5 centimeters (about 6 feet) and Latvian women at 170 cm (about 5 feet 6.5 inches) with Dutch women in second place. A century ago the  United States ranked third in adult male height but it currently ranks 37th so the gain here is not as large as in other countries.\n",
    "\n",
    "We want to use linear regression to model the growth in the average height of men or women (your choice) in the United States and the Netherlands.  \n",
    "\n",
    "The data for this lab was taken from the website ourworldindata.org which got the data from NCD RisC (a network of health scientists around the world).  \n",
    "\n",
    "The data is contained in the file human_heights.txt which consists of 5 columns of  numerical data in the following order:  year, Dutch men average height, Dutch women average height, US men average height, US women average height.   The heights are given in centimeters. \n",
    "\n",
    "1.  Choose to compare either Dutch men to US men or Dutch women to US women\n",
    "1.  Import libraries\n",
    "1.  Enter the recorded values for comparison that I have provided\n",
    "1.  Read in data from file human_heights.txt; you can either put your data in 1D arrays or in a matrix.  Plot your data for Dutch and US on same plot; add labels to axis,  plot title and legend.  To add a legend use the label option on plt.plot and the command plt.legend().\n",
    "1.  Use linear regression to fit the data for either men or women; plot both Dutch and US results on the same plot; add labels to axis,  plot title and legend. \n",
    "1.  Calculate the variance\n",
    "1.  Use   regression to fit the data for either men or women using a parabola; plot both Dutch and US results on the same plot; add labels to axis,  plot title and legend.\n",
    "1.  Calculate the variance\n",
    "1.  Decide which fit (a line or a parabola) is better; justify your answer quantitatively.  Then use whichever is better to predict the heights in   1955 and  1995; calculate the percent error  in these predictions and the exact values I provided.  The percent error should be positive and found by taking the absolute value of the difference in the predicted and actual heights divided by the actual height times 100 (to get percent).  Are the predictions at different years comparable?\n",
    "\n",
    " "
   ]
  },
  {
   "cell_type": "markdown",
   "metadata": {},
   "source": [
    "#### Indicate  here whether you are comparing Dutch men to US men or Dutch women to US women"
   ]
  },
  {
   "cell_type": "code",
   "execution_count": 2,
   "metadata": {},
   "outputs": [],
   "source": [
    "# Import libraries\n",
    " "
   ]
  },
  {
   "cell_type": "code",
   "execution_count": 34,
   "metadata": {},
   "outputs": [],
   "source": [
    "# Input exact values for comparison\n",
    "#\n",
    "dutch_man_1925 = 174.83; us_man_1925 = 174.53\n",
    "dutch_man_1955 = 180.23; us_man_1955 = 177.22\n",
    "dutch_man_1995 = 182.54; us_man_1995 = 177.16\n",
    "#\n",
    "dutch_woman_1925 = 162.2; us_woman_1925 = 160.97\n",
    "dutch_woman_1955 = 167.11; us_woman_1955 = 163.54\n",
    "dutch_woman_1995 = 168.73; us_woman_1995 = 163.56"
   ]
  },
  {
   "cell_type": "code",
   "execution_count": 1,
   "metadata": {},
   "outputs": [],
   "source": [
    "# Read in the data and plot; add axes labels, plot title and legend\n",
    "# Note: to add legend use label option in plt.plot (e.g., label='Dutch Men') and then use\n",
    "# the command plt.legend ()\n",
    "#\n",
    " "
   ]
  },
  {
   "cell_type": "code",
   "execution_count": 2,
   "metadata": {},
   "outputs": [],
   "source": [
    "# Linear regression fit for both Dutch and U.S.; plot and print out the line \n",
    " \n"
   ]
  },
  {
   "cell_type": "code",
   "execution_count": 3,
   "metadata": {},
   "outputs": [],
   "source": [
    "# Calculate the variance for each fit; use the function that we wrote in a previous notebook\n",
    " \n",
    "#\n",
    "# Input: the x and y arrays for the data points, coefficients of line found using LR\n",
    "#        \n",
    "# Output: variance\n",
    "#    \n",
    "    \n",
    " "
   ]
  },
  {
   "cell_type": "code",
   "execution_count": 4,
   "metadata": {},
   "outputs": [],
   "source": [
    "# Quadratic regression fit for Dutch and U.S.; plot and print out the parabolas\n",
    " "
   ]
  },
  {
   "cell_type": "code",
   "execution_count": 5,
   "metadata": {},
   "outputs": [],
   "source": [
    "# Calculate variance for the quadratic fits\n",
    " "
   ]
  },
  {
   "cell_type": "markdown",
   "metadata": {},
   "source": [
    "#### Conclusion\n",
    " "
   ]
  },
  {
   "cell_type": "markdown",
   "metadata": {},
   "source": [
    " Decide which fit is best;  justify\n",
    " \n",
    " \n",
    " "
   ]
  },
  {
   "cell_type": "code",
   "execution_count": null,
   "metadata": {},
   "outputs": [],
   "source": [
    "# Use best fit to predict average heights in   1955 and 1995 for both Dutch and U.S.; compute percent error;\n",
    "# round values to 2 decimal places\n",
    "#\n",
    " \n",
    " "
   ]
  },
  {
   "cell_type": "code",
   "execution_count": null,
   "metadata": {},
   "outputs": [],
   "source": []
  }
 ],
 "metadata": {
  "kernelspec": {
   "display_name": "Python 3",
   "language": "python",
   "name": "python3"
  },
  "language_info": {
   "codemirror_mode": {
    "name": "ipython",
    "version": 3
   },
   "file_extension": ".py",
   "mimetype": "text/x-python",
   "name": "python",
   "nbconvert_exporter": "python",
   "pygments_lexer": "ipython3",
   "version": "3.8.5"
  }
 },
 "nbformat": 4,
 "nbformat_minor": 2
}
